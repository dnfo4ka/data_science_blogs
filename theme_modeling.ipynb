{
  "nbformat": 4,
  "nbformat_minor": 0,
  "metadata": {
    "kernelspec": {
      "display_name": "Python 3",
      "language": "python",
      "name": "python3"
    },
    "language_info": {
      "codemirror_mode": {
        "name": "ipython",
        "version": 3
      },
      "file_extension": ".py",
      "mimetype": "text/x-python",
      "name": "python",
      "nbconvert_exporter": "python",
      "pygments_lexer": "ipython3",
      "version": "3.7.7"
    },
    "colab": {
      "name": "theme modeling",
      "provenance": [],
      "include_colab_link": true
    }
  },
  "cells": [
    {
      "cell_type": "markdown",
      "metadata": {
        "id": "view-in-github",
        "colab_type": "text"
      },
      "source": [
        "<a href=\"https://colab.research.google.com/github/dnfo4ka/data_science_blogs/blob/master/theme_modeling.ipynb\" target=\"_parent\"><img src=\"https://colab.research.google.com/assets/colab-badge.svg\" alt=\"Open In Colab\"/></a>"
      ]
    },
    {
      "cell_type": "markdown",
      "metadata": {
        "id": "N20j8C8tL5EB"
      },
      "source": [
        "# Семинар: Тематическое моделирование"
      ]
    },
    {
      "cell_type": "markdown",
      "metadata": {
        "id": "EhJ3oUImoRuU"
      },
      "source": [
        "## Вводная часть"
      ]
    },
    {
      "cell_type": "markdown",
      "metadata": {
        "id": "pp01H9hSLzFx"
      },
      "source": [
        "***Тематическое моделирование*** — подраздел машинного обучения, посвященный извлечению абстрактных «тем» из набора «документов». С помощью тематического моделирования можно определить, к каким темам относится каждый из документов."
      ]
    },
    {
      "cell_type": "markdown",
      "metadata": {
        "id": "Zk17IUgaRJlC"
      },
      "source": [
        "#### **Как люди ищут информацию?**\n",
        "\n",
        "- рубликатор в библиотеке или на сайте\n",
        "- оглавление и глоссарий в книге или научной работе\n",
        "- изобретение современности - поисковик"
      ]
    },
    {
      "cell_type": "markdown",
      "metadata": {
        "id": "RFT11EosTaRu"
      },
      "source": [
        "#### **Проблема эффективного поиска**\n",
        "Однако проблема эффективного поиска сохраняется.\n",
        "\n",
        "В классическом поиске, когда мы ищем по ключевым словам мы исходим из того, что:\n",
        "\n",
        "1. Точно должны знать что мы ищем.\n",
        "2. Должны предполагать, что существует правильный ответ.\n",
        "\n",
        "Что если нам нужно узнать где передний край науки по нужной мне области? Или нужно быстро разобраться в смежной области.\n",
        "\n",
        "Но мы еще на владеем терминологией и не понимаем что важно, что неважно, по каким ключевым словам следует искать информацию."
      ]
    },
    {
      "cell_type": "markdown",
      "metadata": {
        "id": "r76AHvORDblK"
      },
      "source": [
        "**Цель** - выполение эффективного разведочного информационного поиска в рамках определенной предметной области.\n",
        "\n",
        "**Идея** - давайте построим топологию областей знаний."
      ]
    },
    {
      "cell_type": "markdown",
      "metadata": {
        "id": "_uTD0pD8QmSE"
      },
      "source": [
        "#### **Примеры визуализаций топологий областей знаний:**"
      ]
    },
    {
      "cell_type": "markdown",
      "metadata": {
        "id": "JbNo9YXBDblL"
      },
      "source": [
        "<img src=\"https://carrotsearch.com/assets/carrotsearch/features/foamtree/non-rectangular-layout-0720.jpg\" width=\"500\"/>\n",
        "\n",
        "---\n",
        "https://carrotsearch.com/foamtree/"
      ]
    },
    {
      "cell_type": "markdown",
      "metadata": {
        "id": "GQ5XVqEHDblL"
      },
      "source": [
        "<img src=\"https://pbs.twimg.com/media/DY_tjS0WsAADhmT?format=png\" width=\"500\"/>\n",
        "\n",
        "---\n",
        "https://dl.acm.org/doi/book/10.5555/1995300"
      ]
    },
    {
      "cell_type": "markdown",
      "metadata": {
        "id": "eNIuJVIrHQrk"
      },
      "source": [
        "<img src=\"https://journals.plos.org/plosone/article/file?id=10.1371/journal.pone.0004803.g005&type=large\" width=\"500\"/>\n",
        "\n",
        "---\n",
        "https://doi.org/10.1371/journal.pone.0004803.g005"
      ]
    },
    {
      "cell_type": "markdown",
      "metadata": {
        "id": "YLsiA6vaITxO"
      },
      "source": [
        "<img src=\"https://images.squarespace-cdn.com/content/v1/5edff03d09fb5c4e902ff773/1599834383522-FBMN3YPE5CCOKKOLWUHZ/ke17ZwdGBToddI8pDm48kGecZjL07O2JiRRvz-fC_KdZw-zPPgdn4jUwVcJE1ZvWQUxwkmyExglNqGp0IvTJZUJFbgE-7XRK3dMEBRBhUpz1BFr50UANsCziYGpjNa_6MEhfCL4YxGEARaKTxXTEd4uO9Wa62Az3Po02OVjPqB0/map-of-the-complexity-sciences-tcs.jpg\" width=\"500\"/>\n",
        "\n",
        "---\n",
        "https://www.theoryculturesociety.org/brian-castellani-on-the-complexity-sciences/"
      ]
    },
    {
      "cell_type": "markdown",
      "metadata": {
        "id": "4GEFE3azDblM"
      },
      "source": [
        "#### **Сценарий поиска**\n",
        "\n",
        "При наличии такой топологии **сценарий поиска** будет следующий:\n",
        "1. имея любой текст под рукой, в любом приложении,\n",
        "2. хотим получить картину содержащихся в нём тем-подтем,\n",
        "3. и «дорожную карту» предметной области в целом\n",
        "\n",
        "**Поисковый запрос:**\n",
        "- документ любой длины или даже коллекция документов\n",
        "\n",
        "**Цели поиска:**\n",
        "- к каким темам относится мой запрос?\n",
        "- что ещё известно по этим темам?\n",
        "- какова тематическая структура этой предметной области?\n",
        "- что ещё есть понятного, обзорного, важного, свежего?\n",
        "\n",
        "---\n",
        "http://www.machinelearning.ru/wiki/images/7/78/Voron-2015-06-19-school-VII.pdf"
      ]
    },
    {
      "cell_type": "markdown",
      "metadata": {
        "id": "BGS_m6bkDblM"
      },
      "source": [
        "#### **Как искать?**\n",
        "\n",
        "Мы умеем искать по словам документы, это называется инвертированным индексом. А если у нас поиск по смыслу, по тематике, то что мы должны сделать? Мы должны понять, данный документ запроса — он на какие темы?\n",
        "\n",
        "Документ может быть очень длинным, но число тем в нем может быть не очень большим. Если мы научимся представлять любой документ в виде набора тем — может быть, с весами, определяющими, насколько каждая тема в нем представлена, — то дальше мы можем воспользоваться тем же методом, что при при обычном поиске по словам с помощью инвертированного индекса.\n",
        "\n",
        "У нас как любой запрос, так и любой документ теперь представлены не словами, а темами."
      ]
    },
    {
      "cell_type": "markdown",
      "metadata": {
        "id": "5Z30scdPM9zr"
      },
      "source": [
        "#### **Что такое «тема»?**\n",
        "\n",
        "\n",
        "Тема — специальная терминология предметной области.\n",
        "\n",
        "Тема — набор часто совместно встречающихся терминов.\n",
        "\n",
        "Тема — семантически однородный кластер текстов."
      ]
    },
    {
      "cell_type": "markdown",
      "metadata": {
        "id": "EX3gUrzlPJLt"
      },
      "source": [
        "<img src=\"https://upload.wikimedia.org/wikipedia/commons/thumb/d/d5/%D0%A2%D0%B5%D0%BC%D0%B0%D1%82%D0%B8%D1%87%D0%B5%D1%81%D0%BA%D0%B0%D1%8F_%D0%BC%D0%BE%D0%B4%D0%B5%D0%BB%D1%8C.png/2880px-%D0%A2%D0%B5%D0%BC%D0%B0%D1%82%D0%B8%D1%87%D0%B5%D1%81%D0%BA%D0%B0%D1%8F_%D0%BC%D0%BE%D0%B4%D0%B5%D0%BB%D1%8C.png\" width=\"800\"/>"
      ]
    },
    {
      "cell_type": "markdown",
      "metadata": {
        "id": "zFArHWrNQ4ev"
      },
      "source": [
        "Более формально:\n",
        "\n",
        "*тема* — условное распределение на множестве терминов,\n",
        "\n",
        "*φ = p(w|t)* — вероятность термина w в теме t;\n",
        "\n",
        "*тематический профиль документа* — условное распределение\n",
        "\n",
        "*θ = p(t|d)* — вероятность темы t в документе d.\n",
        "\n"
      ]
    },
    {
      "cell_type": "markdown",
      "metadata": {
        "id": "6gd8DYKrY1Z3"
      },
      "source": [
        "Когда автор писал термин w в документ d, он думал о теме t, и мы хотели бы догадаться, о какой именно.\n",
        "\n",
        "Тематическая модель выявляет латентные темы по\n",
        "наблюдаемым распределениям слов p(w|d) в документах.\n",
        "\n",
        "---\n",
        "http://www.machinelearning.ru/wiki/images/e/e6/Voron-ML-TopicModeling-slides.pdf"
      ]
    },
    {
      "cell_type": "markdown",
      "metadata": {
        "id": "NX7oO2dbae7G"
      },
      "source": [
        "Это задача стохастического матричного разложения:\n",
        "\n",
        "<img src=\"https://i.ibb.co/g4Mdsfc/Screenshot-2020-05-06-at-17-36-05.png\" width=\"600\"/>"
      ]
    },
    {
      "cell_type": "markdown",
      "metadata": {
        "id": "d8MLIX4cuc2b"
      },
      "source": [
        "После выявления списка тем мы можем упорядочить их таким образом, чтобы близкие по смыслу темы оказались рядом:\n",
        "\n",
        "<img src=\"https://i.ibb.co/QMthMcS/Screenshot-2020-05-06-at-23-41-55.png\" width=\"600\"/>"
      ]
    },
    {
      "cell_type": "markdown",
      "metadata": {
        "id": "POgZgCxHodjm"
      },
      "source": [
        "## Практика"
      ]
    },
    {
      "cell_type": "markdown",
      "metadata": {
        "id": "0UL9YqLNeNvv"
      },
      "source": [
        "Версия только с кодом: https://colab.research.google.com/drive/1cZmkRqCKzQBvjL0OCgmC7_0uvyh35-86#scrollTo=A6dvFqfAkN0v"
      ]
    },
    {
      "cell_type": "markdown",
      "metadata": {
        "id": "_lglZUOVQ6rd"
      },
      "source": [
        "### **BigARTM**"
      ]
    },
    {
      "cell_type": "markdown",
      "metadata": {
        "id": "8skHmHPwJG-H"
      },
      "source": [
        "<img src=\"https://github.com/bigartm/visartm/blob/master/static/img/BigARTM-logo-big.png?raw=true\" width=\"200\"/>"
      ]
    },
    {
      "cell_type": "markdown",
      "metadata": {
        "id": "C5RlTPI1NAtJ"
      },
      "source": [
        "Обобщение тематических моделей с помощью аддитивной регуляризации (ARTM):\n",
        "\n",
        "https://link.springer.com/article/10.1007/s10994-014-5476-6"
      ]
    },
    {
      "cell_type": "markdown",
      "metadata": {
        "id": "E1wMM2rcNOFV"
      },
      "source": [
        "Проект BigARTM, реализующий идеи ARTM:\n",
        "https://github.com/bigartm/bigartm"
      ]
    },
    {
      "cell_type": "code",
      "metadata": {
        "id": "s6DnxhhO1Qhj",
        "colab": {
          "base_uri": "https://localhost:8080/",
          "height": 170
        },
        "outputId": "25d9e1bb-9135-49fe-c1fd-88cc24795492"
      },
      "source": [
        "!pip install bigartm"
      ],
      "execution_count": null,
      "outputs": [
        {
          "output_type": "stream",
          "text": [
            "Requirement already satisfied: bigartm in /usr/local/lib/python3.6/dist-packages (0.9.2)\n",
            "Requirement already satisfied: protobuf>=3.0 in /usr/local/lib/python3.6/dist-packages (from bigartm) (3.10.0)\n",
            "Requirement already satisfied: tqdm in /usr/local/lib/python3.6/dist-packages (from bigartm) (4.38.0)\n",
            "Requirement already satisfied: numpy in /usr/local/lib/python3.6/dist-packages (from bigartm) (1.18.3)\n",
            "Requirement already satisfied: pandas in /usr/local/lib/python3.6/dist-packages (from bigartm) (1.0.3)\n",
            "Requirement already satisfied: setuptools in /usr/local/lib/python3.6/dist-packages (from protobuf>=3.0->bigartm) (46.1.3)\n",
            "Requirement already satisfied: six>=1.9 in /usr/local/lib/python3.6/dist-packages (from protobuf>=3.0->bigartm) (1.12.0)\n",
            "Requirement already satisfied: pytz>=2017.2 in /usr/local/lib/python3.6/dist-packages (from pandas->bigartm) (2018.9)\n",
            "Requirement already satisfied: python-dateutil>=2.6.1 in /usr/local/lib/python3.6/dist-packages (from pandas->bigartm) (2.8.1)\n"
          ],
          "name": "stdout"
        }
      ]
    },
    {
      "cell_type": "code",
      "metadata": {
        "id": "PO3yOQo9kN0a",
        "colab": {
          "base_uri": "https://localhost:8080/",
          "height": 34
        },
        "outputId": "9f8e1585-f329-43c1-c790-db49fcd38ca9"
      },
      "source": [
        "import artm\n",
        "\n",
        "print(artm.version())"
      ],
      "execution_count": null,
      "outputs": [
        {
          "output_type": "stream",
          "text": [
            "0.9.2\n"
          ],
          "name": "stdout"
        }
      ]
    },
    {
      "cell_type": "markdown",
      "metadata": {
        "id": "qT25eRiABOPX"
      },
      "source": [
        "**All datasets are here:** https://bigartm.readthedocs.io/en/master/tutorials/datasets.html"
      ]
    },
    {
      "cell_type": "code",
      "metadata": {
        "id": "JEVF8FztpSKq",
        "colab": {
          "base_uri": "https://localhost:8080/",
          "height": 391
        },
        "outputId": "4b627fd4-80df-4911-8207-9e1ebf19a770"
      },
      "source": [
        "!wget https://s3-eu-west-1.amazonaws.com/artm/docword.kos.txt.gz\n",
        "!wget https://s3-eu-west-1.amazonaws.com/artm/vocab.kos.txt\n",
        "!gunzip docword.kos.txt.gz"
      ],
      "execution_count": null,
      "outputs": [
        {
          "output_type": "stream",
          "text": [
            "--2020-05-06 21:48:12--  https://s3-eu-west-1.amazonaws.com/artm/docword.kos.txt.gz\n",
            "Resolving s3-eu-west-1.amazonaws.com (s3-eu-west-1.amazonaws.com)... 52.218.108.75\n",
            "Connecting to s3-eu-west-1.amazonaws.com (s3-eu-west-1.amazonaws.com)|52.218.108.75|:443... connected.\n",
            "HTTP request sent, awaiting response... 200 OK\n",
            "Length: 1053803 (1.0M) [application/x-gzip]\n",
            "Saving to: ‘docword.kos.txt.gz’\n",
            "\n",
            "docword.kos.txt.gz  100%[===================>]   1.00M  1.72MB/s    in 0.6s    \n",
            "\n",
            "2020-05-06 21:48:13 (1.72 MB/s) - ‘docword.kos.txt.gz’ saved [1053803/1053803]\n",
            "\n",
            "--2020-05-06 21:48:14--  https://s3-eu-west-1.amazonaws.com/artm/vocab.kos.txt\n",
            "Resolving s3-eu-west-1.amazonaws.com (s3-eu-west-1.amazonaws.com)... 52.218.56.43\n",
            "Connecting to s3-eu-west-1.amazonaws.com (s3-eu-west-1.amazonaws.com)|52.218.56.43|:443... connected.\n",
            "HTTP request sent, awaiting response... 200 OK\n",
            "Length: 55467 (54K) [text/plain]\n",
            "Saving to: ‘vocab.kos.txt’\n",
            "\n",
            "vocab.kos.txt       100%[===================>]  54.17K  --.-KB/s    in 0.1s    \n",
            "\n",
            "2020-05-06 21:48:14 (563 KB/s) - ‘vocab.kos.txt’ saved [55467/55467]\n",
            "\n"
          ],
          "name": "stdout"
        }
      ]
    },
    {
      "cell_type": "markdown",
      "metadata": {
        "id": "wSVqeS9_kN0e"
      },
      "source": [
        "### 1. Словари и батчи в BigARTM"
      ]
    },
    {
      "cell_type": "code",
      "metadata": {
        "id": "peWENPBqW_lF"
      },
      "source": [
        "# продублируем коллекцию kos с именем my_collection для работы примеров кода по работе с коллекциями\n",
        "\n",
        "!cp vocab.kos.txt vocab.my_collection.txt\n",
        "!cp docword.kos.txt docword.my_collection.txt"
      ],
      "execution_count": null,
      "outputs": []
    },
    {
      "cell_type": "markdown",
      "metadata": {
        "id": "HgdOA_LwmB7l"
      },
      "source": [
        "В Python API BigARTM, по аналогии с алгоритмами из scikit-learn, входные данные представлены одним классом BatchVectorizer. Объект этого класса принимает на вход батчи или файлы и подаётся на вход всем методам. В случае, если входные данные не являются батчами, он создаёт их и сохраняет на диск для последующего быстрого использования."
      ]
    },
    {
      "cell_type": "markdown",
      "metadata": {
        "id": "mLZ8XzLJkN0f"
      },
      "source": [
        "Прежде, чем приступать непосредственно к моделированию, необходимо привести данные к формату, подходящему для использования библиотекой. Форматы сырых данных, которые можно подавать BigARTM (https://bigartm.readthedocs.io/en/master/tutorials/datasets.html). Перевод же этих данных во внутренний формат библиотеки (пакеты документов, именуемы батчами), можно проделать с помощью создания объекта класса BatchVectorizer."
      ]
    },
    {
      "cell_type": "markdown",
      "metadata": {
        "id": "XsUuO4TPkN0i"
      },
      "source": [
        "Итак, в том случае, если у Вам есть данные в формате UCI (т. е. файлы vocab.my_collection.txt и docword.my_collection.txt), которые лежат в одной директории с исполняемым кодом (в данном случае - с этим ноутбуком), создание батчей можно произвести с помощью следующего кода:"
      ]
    },
    {
      "cell_type": "code",
      "metadata": {
        "id": "2n2PvVCckN0j"
      },
      "source": [
        "batch_vectorizer = artm.BatchVectorizer(data_path='',\n",
        "                                        data_format='bow_uci',\n",
        "                                        collection_name='my_collection',\n",
        "                                        target_folder='my_collection_batches')"
      ],
      "execution_count": null,
      "outputs": []
    },
    {
      "cell_type": "markdown",
      "metadata": {
        "id": "7j4g8e-EkN0l"
      },
      "source": [
        "Встроенный парсер библиотеки преобразовал Ваши данные в батчи, обернув их в объект класса BatchVectorizer, который является универсальным типом входных данных для всех методов Python API, прочесть о нём можно тут http://bigartm.readthedocs.org/en/master/api_references/python_interface/batches_utils.html. Сами батчи разместились в директории, которую Вы указали как target_folder."
      ]
    },
    {
      "cell_type": "markdown",
      "metadata": {
        "id": "ly1mbQQwkN0q"
      },
      "source": [
        "**Важно**: если Вы один раз проделали операцию по созданию батчей из исходных файлов, то в дальнейшем перезапускать этот процесс не нужно, поскольку для больших коллекций он довольно емкий по времени. Вместо этого достаточно запустить следующий код, который создаст BatchVectorizer на основе существующих батчей (данная операция мгновенная):"
      ]
    },
    {
      "cell_type": "code",
      "metadata": {
        "id": "D_2vKwHIkN0q"
      },
      "source": [
        "batch_vectorizer = artm.BatchVectorizer(data_path='my_collection_batches',\n",
        "                                        data_format='batches')"
      ],
      "execution_count": null,
      "outputs": []
    },
    {
      "cell_type": "markdown",
      "metadata": {
        "id": "iDR7pkRHkN0t"
      },
      "source": [
        "Следующая цель после создания батчей - создание словаря. Они хранят информацию обо всех уникальных словах в коллекции. Словарь создаётся вне модели, и различными способами (посмотреть их все Вы можете вот тут http://bigartm.readthedocs.org/en/master/api_references/python_interface/dictionary.html).\n",
        "Самый базовый вариант - \"собрать\" словарь по директории с батчами. Это нужно делать один раз в самом начале работы с новой коллекцией следующим образом:"
      ]
    },
    {
      "cell_type": "code",
      "metadata": {
        "id": "7yuCNGQLkN0t"
      },
      "source": [
        "dictionary = artm.Dictionary()\n",
        "dictionary.gather(data_path='my_collection_batches')"
      ],
      "execution_count": null,
      "outputs": []
    },
    {
      "cell_type": "markdown",
      "metadata": {
        "id": "A6dvFqfAkN0v"
      },
      "source": [
        "В таком варианте слова в словаре (и в дальнейшей матрице $\\Phi$) будут идти в случайном порядке. Если Вам требуется сохранить какой-то порядок, создайте файл вида vocab (см. формат UCI), в котором уникальные слова коллекции будут идти в том порядке, какой Вам более предпочтителен, и запустите следующий код (пусть файл называется vocab.txt и лежит в одной директории с ноутбуком):"
      ]
    },
    {
      "cell_type": "code",
      "metadata": {
        "id": "QujIBG6MkN0w"
      },
      "source": [
        "dictionary = artm.Dictionary()\n",
        "dictionary.gather(data_path='my_collection_batches',\n",
        "                  vocab_file_path='vocab.txt')"
      ],
      "execution_count": null,
      "outputs": []
    },
    {
      "cell_type": "markdown",
      "metadata": {
        "id": "Z_VnSX_dkN0y"
      },
      "source": [
        "Важно понимать, что в случае использования файла vocab этого библиотека будет работать только с теми словами, которые Вы указали в этом файле, прочие слова батчей будут игнорироваться. Словари содержат много различной полезной информации о коллекции. В них каждому слову соответствует переменная - value. Когда библиотека собирает словарь, она в эту переменную кладёт относительную частоту соответствующего слова во всей коллекции. О том, что можно делать с этой переменной, будет рассказано в последующий разделах.\n",
        "\n",
        "Итак, теперь у Вас есть словарь. Его можно сохранять на диск, чтобы не пересоздавать каждый раз. Сохранять можно в бинарном виде:"
      ]
    },
    {
      "cell_type": "code",
      "metadata": {
        "id": "Iinehr0kkN0z"
      },
      "source": [
        "dictionary.save(dictionary_path='my_dictionary')"
      ],
      "execution_count": null,
      "outputs": []
    },
    {
      "cell_type": "markdown",
      "metadata": {
        "id": "Z0CwzurakN02"
      },
      "source": [
        "Либо в текстовом (в том случае, если Вы хотите посмотреть глазами на собранные данные):"
      ]
    },
    {
      "cell_type": "code",
      "metadata": {
        "id": "y-x7UbmgkN02"
      },
      "source": [
        "dictionary.save_text(dictionary_path='my_dictionary.txt')"
      ],
      "execution_count": null,
      "outputs": []
    },
    {
      "cell_type": "markdown",
      "metadata": {
        "id": "B8ZFe7cBkN05"
      },
      "source": [
        "Сохранённый словарь можно загрузить обратно. Бинарный файл грузится так:"
      ]
    },
    {
      "cell_type": "code",
      "metadata": {
        "id": "Eh5VyiDmkN06"
      },
      "source": [
        "dictionary.load(dictionary_path='my_dictionary.dict')"
      ],
      "execution_count": null,
      "outputs": []
    },
    {
      "cell_type": "markdown",
      "metadata": {
        "id": "LmXsYv4FkN08"
      },
      "source": [
        "Текстовый - так:"
      ]
    },
    {
      "cell_type": "code",
      "metadata": {
        "id": "jDnPbUDpkN09"
      },
      "source": [
        "dictionary.load_text(dictionary_path='my_dictionary.txt')"
      ],
      "execution_count": null,
      "outputs": []
    },
    {
      "cell_type": "markdown",
      "metadata": {
        "id": "JfT13b7kkN0-"
      },
      "source": [
        "Кроме того, работая с текстовым словарём, Вы можете изменять его содержимое (менять значения поля value, например), после загрузки изменённого словаря в библиотеку эти правки будут учтены."
      ]
    },
    {
      "cell_type": "markdown",
      "metadata": {
        "id": "-5a9sZookN0_"
      },
      "source": [
        "Последний момент: все методы создания BatchVectorizer автоматически генерируют словарь по умолчанию, доступ к которому можно получить, написав:"
      ]
    },
    {
      "cell_type": "code",
      "metadata": {
        "id": "G1FnELPzkN0_"
      },
      "source": [
        "batch_vectorizer.dictionary"
      ],
      "execution_count": null,
      "outputs": []
    },
    {
      "cell_type": "markdown",
      "metadata": {
        "id": "jJ034k3lkN1D"
      },
      "source": [
        "### 2. Обучение базовой модели PLSA с подсчётом перплексии."
      ]
    },
    {
      "cell_type": "markdown",
      "metadata": {
        "id": "a-qogDEAkN1D"
      },
      "source": [
        "В этот момент Вам необходимо иметь следующие объекты:\n",
        "\n",
        "- директория названием my_collection_batches, а в ней - батчи и словарь в бинарном файле my_dictionary.dict, директория должна лежать рядом с этим ноутбуком;\n",
        "- переменная-словарь dictionary, в которой этот самый словарь есть (собран или загружен).\n",
        "- переменная batch_vectorizer (именно такая, какая создавалась выше).\n",
        "\n",
        "Если всё в порядке, можно приступить к созданию модели. Прежде всего рекомендуется ознакомиться со спецификацией класса ARTM, представляющего собой модель (https://bigartm.readthedocs.io/en/master/api_references/python_interface/artm_model.html)."
      ]
    },
    {
      "cell_type": "markdown",
      "metadata": {
        "collapsed": false,
        "id": "X3d8bsZ0mpQG"
      },
      "source": [
        "ARTM &ndash; это класс, представляющий собой Python API BigARTM, и позволяющий использовать практически все возможности библиотеки в стиле scikit-learn. Создадим две тематические модели для нашего эксперимента. Наиболее важным параметром модели является число тем. Опционально можно указать списки регуляризаторов и функционалов качества, которые следует использовать для данной модели. Если этого не сделать, то регуляризаторы и функционалы всегда можно добавить позднее. Обратите внимание, что каждая модель задаёт своё пространство имён для названий регуляризаторов и функционалов качества."
      ]
    },
    {
      "cell_type": "markdown",
      "metadata": {
        "id": "sMAOm3UsnNp7"
      },
      "source": [
        "Затем для создания модели можно использовать следующий код:"
      ]
    },
    {
      "cell_type": "code",
      "metadata": {
        "id": "5iSpzobEkN1E"
      },
      "source": [
        "model = artm.ARTM(num_topics=20, dictionary=dictionary)"
      ],
      "execution_count": null,
      "outputs": []
    },
    {
      "cell_type": "markdown",
      "metadata": {
        "id": "2DJkliMekN1G"
      },
      "source": [
        "Таким образом, Вы создали модель, в которой была создана матрица $\\Phi$ размером \"число слов из Вашего словаря\" на число тем (20), она инициализирована случайным образом. Необходимо учитывать, что случайное приближение по умолчанию генерируется всегда с одним и тем же random seed (для воспроизводимости результатов). Если Вы хотите получить иное приближение, воспользуйтесь параметром seed класса ARTM (его различные неотрицательные целочисленные значения будут приводить к различным случайным начальным приближениям).\n",
        "\n",
        "С этого момента можно начинать процесс обучения модели, однако, как правило, сперва на модель навешиваются различные метрики качества моделирования. В данном примере мы воспользуемся наиболее распостраненным критерием - перплексией."
      ]
    },
    {
      "cell_type": "markdown",
      "metadata": {
        "id": "X2cFaADltT9g"
      },
      "source": [
        "Остановимся на данной метрике подробнее.\n",
        "\n",
        "Перплексия равна экспоненте от минус логарифма\n",
        "правдоподобия, усредненного по всем словам всех документов:"
      ]
    },
    {
      "cell_type": "markdown",
      "metadata": {
        "id": "_IPVT9E61FNL"
      },
      "source": [
        "\\begin{aligned} {{{P}}}(D,p) = \\exp \\Bigl ( -\\frac{1}{n} L(\\varPhi ,\\varTheta ) \\Bigr ) = \\exp \\biggl ( -\\frac{1}{n} \\sum _{d\\in D} \\sum _{w\\in d} n_{dw} \\ln p(w\\ {\\vert }\\ d)\\biggr ). \\end{aligned}"
      ]
    },
    {
      "cell_type": "markdown",
      "metadata": {
        "id": "AaOpG5_H2vSF"
      },
      "source": [
        "Можно сказать, что это мера различности или неопределенности слов в тексте. \n",
        "\n",
        "Если подставить вместо распределения слов в документах равномерное распределение, то мы увидим, что перплексия равна просто мощности словаря.\n",
        "\n",
        "Если распределение слов неравномерно, то перплексия уменьшается по сравнению с тем значением, которое дает равномерное распределение. Еще можно сказать, что перплексия — это коэффициент ветвления текста, то есть сколько мы ожидаем различных слов после каждого слова в документе в среднем."
      ]
    },
    {
      "cell_type": "markdown",
      "metadata": {
        "id": "9c1n8eLMz-rK"
      },
      "source": [
        "Оперирование метриками происходит через поле scores класса ARTM, добавить метрику перплексии можно так:"
      ]
    },
    {
      "cell_type": "code",
      "metadata": {
        "id": "K2p8dYhqkN1G"
      },
      "source": [
        "model.scores.add(artm.PerplexityScore(name='my_fisrt_perplexity_score',\n",
        "                                      dictionary=dictionary))"
      ],
      "execution_count": null,
      "outputs": []
    },
    {
      "cell_type": "markdown",
      "metadata": {
        "id": "ThiuVKMgkN1J"
      },
      "source": [
        "Ответ на вопрос о смысле параметров метрики можно найти здесь http://bigartm.readthedocs.org/en/master/api_references/python_interface/scores.html. Важно запомнить, что подключать перплексию нужно именно так.\n",
        "\n",
        "**Важный момент**: если Вы попытаетесь создать вторую метрику с тем же именем - вызов будет проигнорирован (это позволяет безопасно перезапускать ячейки кода, создающие метрики в Jupyter notebook)."
      ]
    },
    {
      "cell_type": "markdown",
      "metadata": {
        "id": "YzNb6ZKLa1LA"
      },
      "source": [
        "Следующий шаг — инициализация моделей. Сделаем это по словарю, что означает, что\n",
        "- будет создана матрица $\\Phi$ с именем 'pwt', число строк и столбцов в ней будет взято исходя из числа слов в словаре и заданного в модели числа тем;\n",
        "- эта матрица будет заполнена случайными значениями из диапазона (0, 1) и нормализована.\n",
        "\n",
        "Словарь &ndash; это объект BigARTM, содержащий информацию о коллекции (словарь коллекции, различные величины и счётчики, связанные со словами). Создать словарь можно на основе папки с батчами. Затем собранный словарь можно сохранять на диск и позже подгрузить вновь."
      ]
    },
    {
      "cell_type": "code",
      "metadata": {
        "id": "SwnGOs2SbHnF"
      },
      "source": [
        "model.initialize(dictionary=dictionary)"
      ],
      "execution_count": null,
      "outputs": []
    },
    {
      "cell_type": "markdown",
      "metadata": {
        "id": "0JToJ0Q0a6Be"
      },
      "source": [
        "Теперь перейдём к главному действию - обучению модели. Сделать это можно одним из двух способов: онлайновым или оффлайновым. Обучение производят методы fit_online() и fit_offline() соответственно.\n",
        "\n",
        "- Оффлайновый алгоритм: много проходов по коллекции, один проход по документу (опционально), обновление Φ в конце каждого прохода. Используйте, если у Вас маленькая коллекция.\n",
        "\n",
        "- Онлайновый алгоритм: один проход по коллекции (опционально), много проходов по документу, обновление Φ раз в заданное количество батчей. Используйте при большой коллекции, и коллекции с быстро меняющейся тематикой.\n",
        "\n",
        "Параметры этих методов можно найти в ранее указанном документации http://bigartm.readthedocs.org/en/master/api_references/python_interface/artm_model.html. Мы воспользуемся оффлайновым обучением здесь и во всех остальных примерах. \n",
        "\n",
        "Итак, приступим к обучению:"
      ]
    },
    {
      "cell_type": "code",
      "metadata": {
        "id": "V154ccgbkN1J"
      },
      "source": [
        "model.fit_offline(batch_vectorizer=batch_vectorizer, num_collection_passes=10)"
      ],
      "execution_count": null,
      "outputs": []
    },
    {
      "cell_type": "markdown",
      "metadata": {
        "id": "takfET9VkN1L"
      },
      "source": [
        "Наверняка этот фрагмент кода работал дольше всех предыдущих. Вот мы и провели первый этап обучения модели, стоит посмотреть на перплексию. Для надо задействовать score_tracker. Это поле класса ARTM, отвечающее за хранение результатов подсчёта метрик. Он запоминает значения всех метрик на момент каждого обновления матрицы $\\Phi$. Обращение к метрикам производится по данным ранее именам.\n",
        "\n",
        "Требовать можно либо самое последнее значение:"
      ]
    },
    {
      "cell_type": "code",
      "metadata": {
        "id": "tXPTNlEpkN1M",
        "colab": {
          "base_uri": "https://localhost:8080/",
          "height": 34
        },
        "outputId": "978d57c0-0e8f-43ae-8a6e-7b19552d7d09"
      },
      "source": [
        "print(model.score_tracker['my_fisrt_perplexity_score'].last_value)"
      ],
      "execution_count": null,
      "outputs": [
        {
          "output_type": "stream",
          "text": [
            "1322.1502685546875\n"
          ],
          "name": "stdout"
        }
      ]
    },
    {
      "cell_type": "markdown",
      "metadata": {
        "id": "747wQ5ljkN1O"
      },
      "source": [
        "Либо список всех значений:"
      ]
    },
    {
      "cell_type": "code",
      "metadata": {
        "id": "aQukl5F1kN1O",
        "colab": {
          "base_uri": "https://localhost:8080/",
          "height": 34
        },
        "outputId": "f4c45199-9fa1-48ca-d902-4e97bba44491"
      },
      "source": [
        "print(model.score_tracker['my_fisrt_perplexity_score'].value)"
      ],
      "execution_count": null,
      "outputs": [
        {
          "output_type": "stream",
          "text": [
            "[6667.97705078125, 2384.87646484375, 2005.3382568359375, 1683.2801513671875, 1531.7239990234375, 1448.349365234375, 1396.2391357421875, 1361.7174072265625, 1338.3148193359375, 1322.1502685546875]\n"
          ],
          "name": "stdout"
        }
      ]
    },
    {
      "cell_type": "markdown",
      "metadata": {
        "id": "NB6jlNIbkN1Q"
      },
      "source": [
        "Если перплексия сошлась, то процесс обучения можно завершить. В противном случае надо продолжить. Как было отмечено, требование одной итерации прохода по документу - опциональное. И fit_online(), и fit_offline() могут делать столько итераций по документу, сколько захотите. Для этого надо задать это число в переменной-модели:"
      ]
    },
    {
      "cell_type": "code",
      "metadata": {
        "id": "UmCIH2LwkN1Q"
      },
      "source": [
        "model.num_document_passes = 5"
      ],
      "execution_count": null,
      "outputs": []
    },
    {
      "cell_type": "markdown",
      "metadata": {
        "id": "usLTahcfkN1U"
      },
      "source": [
        "Все последующие вызовы методов обучения учтут это изменение. Запустим дальнейшее обучение:"
      ]
    },
    {
      "cell_type": "code",
      "metadata": {
        "id": "oxlMk8JokN1U"
      },
      "source": [
        "model.fit_offline(batch_vectorizer=batch_vectorizer, num_collection_passes=15)"
      ],
      "execution_count": null,
      "outputs": []
    },
    {
      "cell_type": "markdown",
      "metadata": {
        "id": "aHfNVSurkN1W"
      },
      "source": [
        "Мы дообучили предыдущую модель, сделав ещё 15 итераций по коллекции, и на каждой из них 5 раз обрабатывая каждый документ.\n",
        "\n",
        "Дальше можно дообучать модель по аналогии. Напоследок, перед тем, как перейти ко следующему разделу: если в какой-то момент, Вы поняли, что модель выродилась, а Вы не хотите создавать новую - воспользуйтесь методом инициализации, который заполнит матрицу $\\Phi$ снова случайными числами, и ничего больше не тронет (ни ваших настроек регуляризаторов/метрик, ни историю значений метрик):"
      ]
    },
    {
      "cell_type": "code",
      "metadata": {
        "id": "vVQj8NadkN1X"
      },
      "source": [
        "model.initialize(dictionary=dictionary)"
      ],
      "execution_count": null,
      "outputs": []
    },
    {
      "cell_type": "markdown",
      "metadata": {
        "id": "LaLx59OAkN1Z"
      },
      "source": [
        "Кстати, ровно этот метод и вызывает конструктор внутри себя, если получает на вход параметр dictionary. При этом изменение поля seed конструктора соответствующим образом скажется на вызове initialize().\n",
        "\n",
        "Заметим, что везде, где принимается переменная словарь, может приниматься и его имя-строка:"
      ]
    },
    {
      "cell_type": "code",
      "metadata": {
        "id": "PNQ1qXiSkN1a"
      },
      "source": [
        "model.initialize(dictionary=dictionary.name)"
      ],
      "execution_count": null,
      "outputs": []
    },
    {
      "cell_type": "markdown",
      "metadata": {
        "id": "w4ELngAvkN1c"
      },
      "source": [
        "### 3. Регуляризованная модель PLSA и новые метрики."
      ]
    },
    {
      "cell_type": "markdown",
      "metadata": {
        "collapsed": true,
        "id": "_KVlFXPlkN1c"
      },
      "source": [
        "BigARTM - это проект, эффективно реализующий теорию аддитивной регуляризации тематических моделей К. В. Воронцова. АРТМ является более гибкой заменой существующего байесовского подхода. В основе теории лежат регуляризаторы."
      ]
    },
    {
      "cell_type": "markdown",
      "metadata": {
        "collapsed": true,
        "id": "-PdQz0_lkN1c"
      },
      "source": [
        "В библиотеке есть предопределённый набор регуляризаторов (при необходимости можно создавать новые, о создании регуляризаторов и метрик качества написано в отдельном соответствующем пособии). Сейчас мы будем учиться ими пользоваться.\n",
        "\n",
        "Предполагается, что все требования, предъявленные в начале предыдущего раздела, выполнены. Итак, создадим модель, добавим к ней метрику перплексии:"
      ]
    },
    {
      "cell_type": "code",
      "metadata": {
        "id": "m3veKqMXkN1d"
      },
      "source": [
        "model = artm.ARTM(num_topics=20, dictionary=dictionary, cache_theta=False)\n",
        "model.scores.add(artm.PerplexityScore(name='perplexity_score',\n",
        "                                      dictionary=dictionary))\n"
      ],
      "execution_count": null,
      "outputs": []
    },
    {
      "cell_type": "markdown",
      "metadata": {
        "id": "0q9tfPU_kN1f"
      },
      "source": [
        "Сразу следует отметить смысл флага cache_theta. Обрабатываемые коллекции могут иметь довольно большие размеры в смысле числа документов, и матрица $\\Theta$ для них может занимать слишком много места, что часто неприемлемо. Для этих целей существует флаг cache_theta, который позволяет запретить хранение это матрицы. По умолчанию матрица сохраняется, чтобы Вы имели возможность на неё посмотреть. В тех случаях, когда надо посмотреть на распределения документов, в $\\Theta$ в память не влезает, можно воспользоваться методов ARTM.transform() (о нём будет подробно рассказано далее)."
      ]
    },
    {
      "cell_type": "markdown",
      "metadata": {
        "collapsed": true,
        "id": "HbZxCcbDkN1g"
      },
      "source": [
        "Теперь попробуем добавить другие метрики, поскольку перплексия далеко не единственная и не лучшая (снова делаю отсылку к списку метрик и их параметров http://bigartm.readthedocs.org/en/master/api_references/python_interface/scores.html).\n",
        "\n",
        "Добавим метрики разреженности матриц $\\Phi$ и $\\Theta$, а также информацию о наиболее вероятных словах в каждой теме (топ-токенах):"
      ]
    },
    {
      "cell_type": "code",
      "metadata": {
        "id": "qj32TFOkkN1g"
      },
      "source": [
        "model.scores.add(artm.SparsityPhiScore(name='sparsity_phi_score'))\n",
        "model.scores.add(artm.SparsityThetaScore(name='sparsity_theta_score'))\n",
        "model.scores.add(artm.TopTokensScore(name='top_tokens_score'))"
      ],
      "execution_count": null,
      "outputs": []
    },
    {
      "cell_type": "markdown",
      "metadata": {
        "collapsed": true,
        "id": "j3w6KIMwkN1i"
      },
      "source": [
        "Метрики обладают рядом полезных параметров. Например, они могут считаться по подмножествам тем - это часто бывает полезным. Давайте будем отдельно считать разреженность первых десяти тем в матрице $\\Phi$. Но есть проблема: темы идентифицируются своими именами, которые не были заданы. Если бы мы задали параметр topic_names в конструкторе модели, такой вопрос бы не встал. А мы задали только num_topics. Однако решение имеется: библиотека сгенерировала нужные имена и сама положила их в поле topic_names, можно ими воспользоваться:"
      ]
    },
    {
      "cell_type": "code",
      "metadata": {
        "id": "P4R0ozpnkN1j"
      },
      "source": [
        "model.scores.add(artm.SparsityPhiScore(name='sparsity_phi_score_10_topics', topic_names=model.topic_names[0: 9]))"
      ],
      "execution_count": null,
      "outputs": []
    },
    {
      "cell_type": "markdown",
      "metadata": {
        "collapsed": true,
        "id": "9RO60n5pkN1m"
      },
      "source": [
        "Конечно, если бы общая разреженность модели была бы нам неинтересна, мы могли бы просто модифицировать первую метрику, а не вводить новую."
      ]
    },
    {
      "cell_type": "markdown",
      "metadata": {
        "collapsed": true,
        "id": "mOEcfuZtkN1o"
      },
      "source": [
        "Но, допустим, что нам интересна и общая разреженность модели, поэтому оставим всё как есть. Тем не менее Вам следует запомнить, что все параметры метрик, модели (и регуляризаторов, о которых будет рассказано далее) могут быть выставлены или заменены путём прямого обращения к полю, как это показано в коде выше."
      ]
    },
    {
      "cell_type": "markdown",
      "metadata": {
        "id": "lgW5a3nAkN1o"
      },
      "source": [
        "Например, потребуем, чтобы метрика топ-токенов показывала нам 12 наиболее вероятных слов в каждой теме:"
      ]
    },
    {
      "cell_type": "code",
      "metadata": {
        "id": "_TUIrF0zkN1p"
      },
      "source": [
        "model.num_tokens = 12"
      ],
      "execution_count": null,
      "outputs": []
    },
    {
      "cell_type": "markdown",
      "metadata": {
        "collapsed": true,
        "id": "7Cll6n2fkN1r"
      },
      "source": [
        "Итак, мы получили модель, покрытую необходимыми метриками, можно запускать процесс обучения:"
      ]
    },
    {
      "cell_type": "code",
      "metadata": {
        "id": "5YAKZ_zvkN1r"
      },
      "source": [
        "model.initialize(dictionary=dictionary)\n",
        "model.fit_offline(batch_vectorizer=batch_vectorizer, num_collection_passes=10)"
      ],
      "execution_count": null,
      "outputs": []
    },
    {
      "cell_type": "markdown",
      "metadata": {
        "collapsed": true,
        "id": "Kr0xhkF2kN1u"
      },
      "source": [
        "Этот код уже встречался в предыдущем разделе. Но теперь можно посмотреть значения новых подключенных метрик:"
      ]
    },
    {
      "cell_type": "code",
      "metadata": {
        "id": "u-90wbyWkN1u",
        "colab": {
          "base_uri": "https://localhost:8080/",
          "height": 68
        },
        "outputId": "c7a1a026-d31d-49be-aed3-525d91df8b57"
      },
      "source": [
        "print(model.score_tracker['perplexity_score'].value)      # .last_value\n",
        "print(model.score_tracker['sparsity_phi_score'].value)    # .last_value\n",
        "print(model.score_tracker['sparsity_theta_score'].value)  # .last_value"
      ],
      "execution_count": null,
      "outputs": [
        {
          "output_type": "stream",
          "text": [
            "[6667.97705078125, 2384.87646484375, 2005.3382568359375, 1683.2801513671875, 1531.7239990234375, 1448.349365234375, 1396.2391357421875, 1361.7174072265625, 1338.3148193359375, 1322.1502685546875]\n",
            "[0.0, 0.0, 0.0, 0.0, 0.0005357660120353103, 0.00375036196783185, 0.010338835418224335, 0.020721111446619034, 0.03410802036523819, 0.050419922918081284]\n",
            "[0.0, 0.0, 0.0, 0.0, 0.0, 0.0, 0.0, 0.0, 0.0, 0.0]\n"
          ],
          "name": "stdout"
        }
      ]
    },
    {
      "cell_type": "markdown",
      "metadata": {
        "id": "gueI-B0YkN1w"
      },
      "source": [
        "Как видно, во всех метриках ничего не изменилось. Однако мы забыли про топ-токены. Здесь надо действовать несколько аккуратнее: метрика хранит данные на момент всех обновлений матрицы $\\Phi$. Предположим, что нам нужны только самые последние данные. Тогда обратимся к полю last_tokens. Это словарь, в котором ключ - имя темы, а значение - список топ-слов этой темы.\n",
        "\n",
        "**Важный момент**: метрики выгружаются из ядра при каждом обращении, поэтому для таких больших метрик, как топ-слова (или ядровые характеристики, о которых можно прочитать по данным выше ссылкам), лучше завести переменную, в которую Вы один раз всё выгрузите, а потом уже работать с ней. Итак, просмотрим топ-слова последовательно в цикле по именам тем модели:"
      ]
    },
    {
      "cell_type": "code",
      "metadata": {
        "id": "VNo7NImDkN1x",
        "colab": {
          "base_uri": "https://localhost:8080/",
          "height": 357
        },
        "outputId": "07e8dca0-a864-4667-fc7a-683e56c16627"
      },
      "source": [
        "saved_top_tokens = model.score_tracker['top_tokens_score'].last_tokens\n",
        "\n",
        "for topic_name in model.topic_names:\n",
        "    print(saved_top_tokens[topic_name])"
      ],
      "execution_count": null,
      "outputs": [
        {
          "output_type": "stream",
          "text": [
            "['tax', 'party', 'bush', 'federal', 'court', 'democratic', 'political', 'economic', 'social', 'law']\n",
            "['iraq', 'war', 'military', 'troops', 'soldiers', 'killed', 'iraqi', 'forces', 'baghdad', 'army']\n",
            "['november', 'poll', 'house', 'governor', 'electoral', 'account', 'senate', 'republicans', 'polls', 'contact']\n",
            "['senate', 'race', 'carson', 'republican', 'elections', 'oklahoma', 'coburn', 'colorado', 'campaign', 'gop']\n",
            "['election', 'specter', 'toomey', 'workers', 'health', 'time', 'people', 'oil', 'bush', 'signs']\n",
            "['kerry', 'cheney', 'john', 'president', 'kerrys', 'america', 'convention', 'speech', 'general', 'people']\n",
            "['race', 'district', 'state', 'nader', 'ballot', 'seat', 'candidate', 'party', 'elections', 'democrats']\n",
            "['administration', 'bush', 'white', 'house', 'commission', 'president', 'report', 'jobs', 'billion', 'year']\n",
            "['campaign', 'media', 'party', 'democratic', 'ads', 'union', 'national', 'unions', 'television', 'political']\n",
            "['house', 'million', 'money', 'delay', 'committee', 'republican', 'elections', 'democratic', 'democrats', 'races']\n",
            "['november', 'voting', 'vote', 'kerry', 'house', 'polls', 'bush', 'electoral', 'senate', 'account']\n",
            "['iraq', 'war', 'bush', 'american', 'saddam', 'iraqi', 'united', 'intelligence', 'administration', 'weapons']\n",
            "['bush', 'poll', 'kerry', 'voters', 'polls', 'general', 'results', 'polling', 'numbers', 'percent']\n",
            "['media', 'time', 'herseth', 'house', 'people', 'blogs', 'bunning', 'reporters', 'election', 'read']\n",
            "['bush', 'kerry', 'general', 'ohio', 'states', 'state', 'oct', 'debate', 'voters', 'michigan']\n",
            "['bush', 'bushs', 'war', 'president', 'iraq', 'administration', 'george', 'news', 'people', 'political']\n",
            "['reagan', 'years', 'people', 'women', 'rights', 'news', 'bush', 'family', 'science', 'cell']\n",
            "['dean', 'edwards', 'primary', 'clark', 'democratic', 'iowa', 'kerry', 'gephardt', 'lieberman', 'jan']\n",
            "['kerry', 'percent', 'democratic', 'john', 'democrats', 'campaign', 'nominee', 'south', 'vote', 'candidate']\n",
            "['republicans', 'republican', 'democrats', 'gop', 'state', 'vote', 'marriage', 'governor', 'party', 'gay']\n"
          ],
          "name": "stdout"
        }
      ]
    },
    {
      "cell_type": "markdown",
      "metadata": {
        "id": "QY-4ZRy2kN1z"
      },
      "source": [
        "Вероятно, темы получились не самые лучшие. Как раз для цели улучшения моделей существуют регуляризаторы, задача которых - сделать модель более качественной, интерпретируемой.\n",
        "\n",
        "Списки регуляризаторов и их параметров можно посмотреть здесь http://bigartm.readthedocs.org/en/master/api_references/python_interface/regularizers.html. Код работы с регуляризаторами очень похож на код работы с метриками. Добавим в модель три регуляризатора: разреживание $\\Phi$, разреживание $\\Theta$ и декорреляция тем. Последний старается сделать темы как можно более различными."
      ]
    },
    {
      "cell_type": "code",
      "metadata": {
        "id": "Qrv0V6j-kN1z"
      },
      "source": [
        "model.regularizers.add(artm.SmoothSparsePhiRegularizer(name='sparse_phi_regularizer'))\n",
        "model.regularizers.add(artm.SmoothSparseThetaRegularizer(name='sparse_theta_regularizer'))\n",
        "model.regularizers.add(artm.DecorrelatorPhiRegularizer(name='decorrelator_phi_regularizer'))"
      ],
      "execution_count": null,
      "outputs": []
    },
    {
      "cell_type": "markdown",
      "metadata": {
        "collapsed": true,
        "id": "imLgylGDkN12"
      },
      "source": [
        "Возможно, у Вас вызывает вопрос имя регуляризатора SmoothSparsePhi\\Theta - получается, что он и сглаживает, и разреживает? Именно так. Он может и то, и то, его действия будут зависеть от того, каким Вы зададите его коэффициент регуляризации $\\tau$. $\\tau$ > 0 - будет сглаживать, $\\tau$ < 0 - разреживать. По умолчанию все регуляризаторы получают $\\tau$ = 1.0, что, как правило, совершенно не подходит. Выбор подходящего $\\tau$ - эвристика, иногда приходится провести десятки опытов, чтобы подобрать хорошие значений. Это экспериментальная работа, которая здесь рассматриваться не будет. Вместо этого посмотрим на технические детали:"
      ]
    },
    {
      "cell_type": "code",
      "metadata": {
        "id": "0ip1RUVJkN13"
      },
      "source": [
        "model.regularizers['sparse_phi_regularizer'].tau = -1.0\n",
        "model.regularizers['sparse_theta_regularizer'].tau = -0.5\n",
        "model.regularizers['decorrelator_phi_regularizer'].tau = 1e+5"
      ],
      "execution_count": null,
      "outputs": []
    },
    {
      "cell_type": "markdown",
      "metadata": {
        "collapsed": true,
        "id": "-89pN1yPkN17"
      },
      "source": [
        "Выставленные значения стандартны, но при неблагоприятном стечении обстоятельств могут либо не оказать на модель существенного влияния, либо существенно её ухудшить.\n",
        "\n",
        "Ещё раз обращаю Ваше внимание, что выставление и замена параметров регуляризаторов полностью аналогично тому, как это происходит у метрик.\n",
        "\n",
        "Запустим обучение модели повторно:"
      ]
    },
    {
      "cell_type": "code",
      "metadata": {
        "id": "sMQgCg4bkN17"
      },
      "source": [
        "model.fit_offline(batch_vectorizer=batch_vectorizer, num_collection_passes=10)"
      ],
      "execution_count": null,
      "outputs": []
    },
    {
      "cell_type": "markdown",
      "metadata": {
        "collapsed": true,
        "id": "Du59VTYqkN19"
      },
      "source": [
        "Дальше можно снова смотреть на метрики, поправлять коэффициенты $\\tau$ регуляризаторов и т.д.\n",
        "Регуляризаторам, как и метрикам, тоже можно задать, какие темы можно трогать, а какие - нельзя. Делается это в полной аналогии с тем, как мы проделали это для метрик."
      ]
    },
    {
      "cell_type": "markdown",
      "metadata": {
        "id": "58e96sVLkN19"
      },
      "source": [
        "Вернёмся теперь к словарям. Но для начала небольшое отступление. Рассмотрим принцип работы регуляризатора сглаживания/разреживания $\\Phi$. Он просто прибавляет ко всем счётчикам одну и ту же величину $\\tau$, что может оказаться неподходящей нам стратегией. Возможный сценарий: необходимость разреживания части слов при сглаживании другой части и игнорировании всех остальных. Для примера, хотим разреживать слова про магию, сглаживать - про котов, а остальные не трогать.\n",
        "\n",
        "В этой ситуации необходимо использовать словари.\n",
        "\n",
        "Вспомним про поле value, которое соответствует каждому слову. А также про то, что регуляризатор сглаживания/разреживания $\\Phi$ имеет поле dictionary. Если Вы зададите это поле, то регуляризатор будет прибавлять к счётчикам не $\\tau$, а $\\tau$ * value для данного слова. Таким образом, если $\\tau$ взять равным, например, единице, словам о магии выставить value = -1.0, словам о котах - 1.0, а всем остальным словам - 0.0, то мы получим ровно то, что требовалось.\n",
        "\n",
        "Остался один момент: как заменить эти самые value. Об этом говорилось во вводной части, вспомним о методах словарей Dictionary.save_text() и Dictionary.load_text().\n",
        "\n",
        "Последовательность действий следующая:\n",
        "\n",
        "- выгружаете словарь в текстовом виде;\n",
        "- открываете его, каждая строка - одно слово, в строке 5 значений: слово - модальность - value - token_tf - token_df (это всё написано в первой строке-заголовке);\n",
        "- не обращайте внимания ни на что, кроме слова и его value; найдите интересующие Вас слова и выставьте им нужные значения value;\n",
        "- загрузите словарь обратно.\n",
        "\n",
        "\n",
        "После редактирования Ваш файл со словарём может выглядеть так (схематично):\n",
        "\n",
        "котик  | что-то  |  1.0  |  что-то  |  что-то\n",
        "\n",
        "пиво   | что-то  |  0.0  |  что-то  |  что-то\n",
        "\n",
        "посох  | что-то  | -1.0  |  что-то  |  что-то\n",
        "\n",
        "киса   | что-то  |  1.0  |  что-то  |  что-то\n",
        "\n",
        "мерлин | что-то  | -1.0  |  что-то  |  что-то\n",
        "\n",
        "москва | что-то  |  0.0  |  что-то  |  что-то"
      ]
    },
    {
      "cell_type": "markdown",
      "metadata": {
        "id": "DqKdI43lkN1-"
      },
      "source": [
        "Весь необходимый для проведения описанных операций код уже был показан ранее. На всякий случай посмотрим, как создать регуляризатор со словарём:"
      ]
    },
    {
      "cell_type": "code",
      "metadata": {
        "id": "nDrpOfjSkN1-"
      },
      "source": [
        "model.regularizers.add(artm.SmoothSparsePhiRegularizer(name='smooth_sparse_phi_regularizer', dictionary=dictionary))"
      ],
      "execution_count": null,
      "outputs": []
    },
    {
      "cell_type": "markdown",
      "metadata": {
        "id": "5wjo8RGLkN2A"
      },
      "source": [
        "На этом данный раздел окончен, можно двигаться далее."
      ]
    },
    {
      "cell_type": "markdown",
      "metadata": {
        "id": "RRq1YujPkN2A"
      },
      "source": [
        "### 4. Построение мультимодальной тематической модели с регуляризацией и оцениванием качества; метод ARTM.transform()."
      ]
    },
    {
      "cell_type": "markdown",
      "metadata": {
        "collapsed": true,
        "id": "6ZYF_2vYkN2A"
      },
      "source": [
        "Теперь перейдём к более сложным случаям. В прошлом разделе было упомянуто понятие модальности. Это нечто, соответствующее каждому слову. Я бы определил это, как вид слова. Бывают слова текста, бывают слова, из которых состоит заголовок. А также слова-имена авторов текста, и даже картинку, если её перекодировать в текст, можно считать набором слов, и слова эти будут типа \"слова из которых состоит картинка\". И таких видов слов можно придумать очень много.\n",
        "\n",
        "Так вот, в BigARTM каждое слово имеет тип модальность. Обозначается она не интуитивно - class_id. Ничего общего с классификацией это не имеет, просто неудачное название, которое уже поздно менять. У каждого слова есть такой class_id, Вы всегда можете задать его сами, либо же библиотека автоматически задаст class_id = '@default_class' (если Вы смотрели внутрь словарей, то, наверняка, видели эту конструкцию). Это - тип обычных слов, тип по умолчанию."
      ]
    },
    {
      "cell_type": "markdown",
      "metadata": {
        "collapsed": true,
        "id": "6x5vP8rlkN2B"
      },
      "source": [
        "В большинстве случаев модальности не потребуются, но есть такие ситуации, когда они незаменимы. Например, при классификации документов. Собственно, именно этот пример мы и рассмотрим."
      ]
    },
    {
      "cell_type": "markdown",
      "metadata": {
        "id": "fEDeb5mTkN2B"
      },
      "source": [
        "Все данные придётся пересоздавать с учётом наличия модальностей. От Вас потребуется создание файла в формате Vowpal Wabbit, в котором каждая строка - это документ, а каждый документ состоит из обычных слов и слов-меток классов, к которым относится документ. \n",
        "\n",
        "Пример:\n",
        "doc_100500 |@default_class aaa:2 bbb:4 ccc ddd:6 |@labels_class class_1 class_6\n",
        "\n",
        "Всё это подробно описано здесь http://bigartm.readthedocs.org/en/master/formats.html.\n",
        "\n",
        "Теперь проделайте с этим файлом все необходимые манипуляции из вводной части, чтобы получить нужные батчи и словарь."
      ]
    },
    {
      "cell_type": "markdown",
      "metadata": {
        "id": "ryiUjjcQkN2B"
      },
      "source": [
        "Далее, Вам надо объяснить модели, какие у Вас есть модальности, и какие степени влияния на модель Вы хотите им задать. Степень влияния - это коэффициент модальности $\\tau_m$. Модель по умолчанию использует только слова модальности '@default_class' и её берёт с $\\tau_m$ = 1.0. Хотите использовать другие модальности и веса - надо задать эти требования в конструкторе модели следующим кодом:"
      ]
    },
    {
      "cell_type": "code",
      "metadata": {
        "id": "F2_tvBWUkN2C"
      },
      "source": [
        "model = artm.ARTM(num_topics=20, class_ids={'@default_class': 1.0, '@labels_class': 5.0}, cache_theta=True)"
      ],
      "execution_count": null,
      "outputs": []
    },
    {
      "cell_type": "markdown",
      "metadata": {
        "id": "VYbh4o4gkN2E"
      },
      "source": [
        "Итак, мы попросили модель учитывать эти две модальности, причём метки классов сделать в 5 раз более влиятельными, чем обычные слова. Отмечу, что если в вашем файле с данными были ещё модальности, а Вы их тут не отметили - они не будут учтены. Опять же, если Вы отметите в конструкторе модальности, которых нет в данных - случится то же самое.\n",
        "\n",
        "Разумеется, поле class_ids, как и все остальные, является переопределяемым, Вы всегда можете изменить веса модальностей:"
      ]
    },
    {
      "cell_type": "code",
      "metadata": {
        "id": "woZ1HAcHkN2E"
      },
      "source": [
        "model.class_ids = {'@default_class': 1.0, '@labels_class': 50.0}  # model.class_ids['@labels_class'] = 50.0 --- NO!!!"
      ],
      "execution_count": null,
      "outputs": []
    },
    {
      "cell_type": "markdown",
      "metadata": {
        "id": "0nBwEvJdkN2G"
      },
      "source": [
        "Обновлять веса надо именно так, задавая весь словарь, не надо пытаться обратиться по ключу к отдельной модальности, class_ids обновляется с помощью словаря, но сама словарём не является (словарь - в смысле Python dict)."
      ]
    },
    {
      "cell_type": "markdown",
      "metadata": {
        "collapsed": true,
        "id": "7jDpVqA3kN2G"
      },
      "source": [
        "При следующем запуске fit_offline() или fit_online() эта информация будет учтена.\n",
        "\n",
        "Теперь к модели надо подключить регуляризаторы и метрики качества. Весь это процесс уже был рассмотрен, за исключением одного момента. Все метрики на матрице $\\Phi$ (а также перплексия) и регуляризаторы $\\Phi$ имеют поля для работы модальностями. Т. е. в этих полях Вы можете определить, с каким модальностями метрика/регуляризатор должна работать, остальные будут проигнорированы (по аналогии с полем topic_names для тем).\n",
        "\n",
        "Поле модальности может быть либо class_id, либо class_ids. Первое - это строка с именем одной модальности, с которой надо работать, второе - список строк с такими модальностями.\n",
        "\n",
        "**Важный момент** со значениями по умолчанию. Для class_id отсутствие заданного Вами значения означает class_id = '@default_class'. Для class_ids отсутствие значения означает использование всех имеющихся в модели модальностей.\n",
        "\n",
        "Посмотреть информацию детально о каждой метрике и каждом регуляризаторе можно по уже данным ранее ссылках http://bigartm.readthedocs.org/en/master/api_references/python_interface/regularizers.html и http://bigartm.readthedocs.org/en/master/api_references/python_interface/scores.html."
      ]
    },
    {
      "cell_type": "markdown",
      "metadata": {
        "collapsed": true,
        "id": "3aBCG7UOkN2H"
      },
      "source": [
        "Давайте добавим в модель метрику разреженности $\\Phi$ для модальности меток классов, а также регуляризаторы декорреляции тем для каждой из модальностей, после чего запустим процесс обучения модели:"
      ]
    },
    {
      "cell_type": "code",
      "metadata": {
        "id": "wTPR-eaCkN2H"
      },
      "source": [
        "model.scores.add(artm.SparsityPhiScore(name='sparsity_phi_score', class_id='@labels_class'))\n",
        "\n",
        "model.regularizers.add(artm.DecorrelatorPhiRegularizer(name='decorrelator_phi_def', class_ids=['@default_class']))\n",
        "model.regularizers.add(artm.DecorrelatorPhiRegularizer(name='decorrelator_phi_lab', class_ids=['@labels_class']))\n",
        "\n",
        "model.initialize(dictionary=dictionary)\n",
        "model.fit_offline(batch_vectorizer=batch_vectorizer, num_collection_passes=10)"
      ],
      "execution_count": null,
      "outputs": []
    },
    {
      "cell_type": "markdown",
      "metadata": {
        "id": "pX3HkLvRkN2L"
      },
      "source": [
        "Итак, работы по дальнейшей настройке модели, подбору коэффициентов регуляризации, весов модальностей и просмотра метрик остаются Вам. Сейчас же перейдём к использованию обученной модели для классификации тестовых данных.\n",
        "\n",
        "#### Классификация тестовых данных с помощью предобученной модели\n",
        "\n",
        "Напомню, что в задаче классификации у Вас есть обучающие данные (коллекция, на которой Вы тренировали модель, где для каждого документа модели известны его метки классов) и данные тестовые, метки которых известны Вам, но не сообщаются модели. Эти скрытые метки модель и должна предсказать, глядя на тестовые документы, а Ваша задача - взять верные ответы и то, что Вам выдала модель, и сравнить, например, посчитав AUC.\n",
        "\n",
        "Подсчёт AUC или ещё каких либо метрик - это Ваше дело, мы этого касаться не будем. А мы займёмся получением для новых документов векторов p(c|d) длиной в количество классов, где каждый элемент - вероятность класса c для данного документа d.\n",
        "\n",
        "Итак, у нас имеется модель. Предполагается, что тестовые документы были убраны в отдельный файл в формате Vowpal Wabbit, на основе которого Вы сумели сгенерировать батчи, которые описываются переменной batch_vectorizer_test. Также предполагается, что сохранили Вы тестовые батчи в отдельную директорию (не в ту, в которую сохранялись обучающие батчи).\n",
        "\n",
        "Ваши тестовые документы не должны содержать информацию о метках классов (а именно: в тестовом файле не должно быть строки '|@labels_class'), также тестовые документы не содержат слов, которых не было в документах обучающих, иначе такие слова будут проигнорированы.\n",
        "\n",
        "Если все эти условия выполнены, можно переходить к использованию ARTM.transform(), который позволяет для всех документов из данного объекта BatchVectorizer получить матрицу вероятностей p(t|d) (т. е. $\\Theta$), либо матрицу p(c|d) для любой указанной модальности.\n",
        "\n",
        "Чтобы получить $\\Theta$ делаем так:"
      ]
    },
    {
      "cell_type": "code",
      "metadata": {
        "id": "dp582unakN2L"
      },
      "source": [
        "theta_test = model.transform(batch_vectorizer=batch_vectorizer) # !FIX_ME: здесь на самом деле д.б. batch_vectorizer=batch_vectorizer_test"
      ],
      "execution_count": null,
      "outputs": []
    },
    {
      "cell_type": "code",
      "metadata": {
        "id": "6I7GYobOjj0c",
        "colab": {
          "base_uri": "https://localhost:8080/",
          "height": 338
        },
        "outputId": "1cb47274-aa3d-49ee-fe5c-fdb22cf1552c"
      },
      "source": [
        "theta_test.head()"
      ],
      "execution_count": null,
      "outputs": [
        {
          "output_type": "execute_result",
          "data": {
            "text/html": [
              "<div>\n",
              "<style scoped>\n",
              "    .dataframe tbody tr th:only-of-type {\n",
              "        vertical-align: middle;\n",
              "    }\n",
              "\n",
              "    .dataframe tbody tr th {\n",
              "        vertical-align: top;\n",
              "    }\n",
              "\n",
              "    .dataframe thead th {\n",
              "        text-align: right;\n",
              "    }\n",
              "</style>\n",
              "<table border=\"1\" class=\"dataframe\">\n",
              "  <thead>\n",
              "    <tr style=\"text-align: right;\">\n",
              "      <th></th>\n",
              "      <th>3001</th>\n",
              "      <th>3002</th>\n",
              "      <th>3003</th>\n",
              "      <th>3004</th>\n",
              "      <th>3005</th>\n",
              "      <th>3006</th>\n",
              "      <th>3007</th>\n",
              "      <th>3008</th>\n",
              "      <th>3009</th>\n",
              "      <th>3010</th>\n",
              "      <th>3011</th>\n",
              "      <th>3012</th>\n",
              "      <th>3013</th>\n",
              "      <th>3014</th>\n",
              "      <th>3015</th>\n",
              "      <th>3016</th>\n",
              "      <th>3017</th>\n",
              "      <th>3018</th>\n",
              "      <th>3019</th>\n",
              "      <th>3020</th>\n",
              "      <th>3021</th>\n",
              "      <th>3022</th>\n",
              "      <th>3023</th>\n",
              "      <th>3024</th>\n",
              "      <th>3025</th>\n",
              "      <th>3026</th>\n",
              "      <th>3027</th>\n",
              "      <th>3028</th>\n",
              "      <th>3029</th>\n",
              "      <th>3030</th>\n",
              "      <th>3031</th>\n",
              "      <th>3032</th>\n",
              "      <th>3033</th>\n",
              "      <th>3034</th>\n",
              "      <th>3035</th>\n",
              "      <th>3036</th>\n",
              "      <th>3037</th>\n",
              "      <th>3038</th>\n",
              "      <th>3039</th>\n",
              "      <th>3040</th>\n",
              "      <th>...</th>\n",
              "      <th>2961</th>\n",
              "      <th>2962</th>\n",
              "      <th>2963</th>\n",
              "      <th>2964</th>\n",
              "      <th>2965</th>\n",
              "      <th>2966</th>\n",
              "      <th>2967</th>\n",
              "      <th>2968</th>\n",
              "      <th>2969</th>\n",
              "      <th>2970</th>\n",
              "      <th>2971</th>\n",
              "      <th>2972</th>\n",
              "      <th>2973</th>\n",
              "      <th>2974</th>\n",
              "      <th>2975</th>\n",
              "      <th>2976</th>\n",
              "      <th>2977</th>\n",
              "      <th>2978</th>\n",
              "      <th>2979</th>\n",
              "      <th>2980</th>\n",
              "      <th>2981</th>\n",
              "      <th>2982</th>\n",
              "      <th>2983</th>\n",
              "      <th>2984</th>\n",
              "      <th>2985</th>\n",
              "      <th>2986</th>\n",
              "      <th>2987</th>\n",
              "      <th>2988</th>\n",
              "      <th>2989</th>\n",
              "      <th>2990</th>\n",
              "      <th>2991</th>\n",
              "      <th>2992</th>\n",
              "      <th>2993</th>\n",
              "      <th>2994</th>\n",
              "      <th>2995</th>\n",
              "      <th>2996</th>\n",
              "      <th>2997</th>\n",
              "      <th>2998</th>\n",
              "      <th>2999</th>\n",
              "      <th>3000</th>\n",
              "    </tr>\n",
              "  </thead>\n",
              "  <tbody>\n",
              "    <tr>\n",
              "      <th>topic_0</th>\n",
              "      <td>7.655325e-02</td>\n",
              "      <td>0.000187</td>\n",
              "      <td>7.447137e-03</td>\n",
              "      <td>0.152995</td>\n",
              "      <td>0.006617</td>\n",
              "      <td>2.318493e-07</td>\n",
              "      <td>0.038358</td>\n",
              "      <td>1.904449e-04</td>\n",
              "      <td>0.000533</td>\n",
              "      <td>0.001690</td>\n",
              "      <td>2.065675e-02</td>\n",
              "      <td>0.002016</td>\n",
              "      <td>3.367082e-04</td>\n",
              "      <td>5.667984e-03</td>\n",
              "      <td>4.527970e-05</td>\n",
              "      <td>6.594907e-04</td>\n",
              "      <td>0.020253</td>\n",
              "      <td>3.109395e-05</td>\n",
              "      <td>8.745365e-07</td>\n",
              "      <td>2.161548e-02</td>\n",
              "      <td>4.770815e-07</td>\n",
              "      <td>0.007953</td>\n",
              "      <td>0.009270</td>\n",
              "      <td>0.192351</td>\n",
              "      <td>5.235600e-02</td>\n",
              "      <td>9.059112e-04</td>\n",
              "      <td>0.000021</td>\n",
              "      <td>1.590523e-05</td>\n",
              "      <td>0.000233</td>\n",
              "      <td>0.060173</td>\n",
              "      <td>4.845247e-02</td>\n",
              "      <td>6.567059e-03</td>\n",
              "      <td>1.974827e-06</td>\n",
              "      <td>4.600245e-04</td>\n",
              "      <td>0.001597</td>\n",
              "      <td>1.120104e-04</td>\n",
              "      <td>0.028457</td>\n",
              "      <td>2.511142e-04</td>\n",
              "      <td>0.001784</td>\n",
              "      <td>0.000009</td>\n",
              "      <td>...</td>\n",
              "      <td>0.009650</td>\n",
              "      <td>0.129140</td>\n",
              "      <td>2.630012e-01</td>\n",
              "      <td>0.004320</td>\n",
              "      <td>0.120311</td>\n",
              "      <td>0.003268</td>\n",
              "      <td>0.001049</td>\n",
              "      <td>2.410757e-03</td>\n",
              "      <td>7.092132e-08</td>\n",
              "      <td>0.008862</td>\n",
              "      <td>0.001924</td>\n",
              "      <td>2.005550e-06</td>\n",
              "      <td>8.369546e-05</td>\n",
              "      <td>0.406437</td>\n",
              "      <td>0.001264</td>\n",
              "      <td>6.838077e-06</td>\n",
              "      <td>1.486081e-02</td>\n",
              "      <td>1.510659e-03</td>\n",
              "      <td>0.087043</td>\n",
              "      <td>0.005285</td>\n",
              "      <td>0.001789</td>\n",
              "      <td>0.003608</td>\n",
              "      <td>7.669974e-03</td>\n",
              "      <td>1.785914e-03</td>\n",
              "      <td>3.697325e-02</td>\n",
              "      <td>8.757924e-03</td>\n",
              "      <td>0.004667</td>\n",
              "      <td>0.024749</td>\n",
              "      <td>0.000371</td>\n",
              "      <td>4.149544e-02</td>\n",
              "      <td>1.160984e-04</td>\n",
              "      <td>5.323216e-06</td>\n",
              "      <td>0.001099</td>\n",
              "      <td>0.000018</td>\n",
              "      <td>0.015684</td>\n",
              "      <td>0.006181</td>\n",
              "      <td>6.319681e-02</td>\n",
              "      <td>3.868793e-04</td>\n",
              "      <td>0.011725</td>\n",
              "      <td>1.808449e-05</td>\n",
              "    </tr>\n",
              "    <tr>\n",
              "      <th>topic_1</th>\n",
              "      <td>5.757245e-02</td>\n",
              "      <td>0.000058</td>\n",
              "      <td>6.182407e-05</td>\n",
              "      <td>0.000131</td>\n",
              "      <td>0.000003</td>\n",
              "      <td>1.626846e-08</td>\n",
              "      <td>0.014565</td>\n",
              "      <td>3.679957e-07</td>\n",
              "      <td>0.000007</td>\n",
              "      <td>0.000074</td>\n",
              "      <td>1.132987e-02</td>\n",
              "      <td>0.006398</td>\n",
              "      <td>5.526313e-02</td>\n",
              "      <td>4.532640e-02</td>\n",
              "      <td>1.300115e-02</td>\n",
              "      <td>7.421032e-02</td>\n",
              "      <td>0.007037</td>\n",
              "      <td>6.997697e-05</td>\n",
              "      <td>4.639028e-02</td>\n",
              "      <td>3.296635e-04</td>\n",
              "      <td>6.686857e-02</td>\n",
              "      <td>0.648937</td>\n",
              "      <td>0.470059</td>\n",
              "      <td>0.000002</td>\n",
              "      <td>5.619323e-06</td>\n",
              "      <td>1.594649e-02</td>\n",
              "      <td>0.000068</td>\n",
              "      <td>3.974797e-05</td>\n",
              "      <td>0.000123</td>\n",
              "      <td>0.000260</td>\n",
              "      <td>8.724500e-03</td>\n",
              "      <td>8.543863e-03</td>\n",
              "      <td>1.146246e-04</td>\n",
              "      <td>8.614657e-05</td>\n",
              "      <td>0.003369</td>\n",
              "      <td>2.308877e-07</td>\n",
              "      <td>0.001501</td>\n",
              "      <td>1.270256e-03</td>\n",
              "      <td>0.013851</td>\n",
              "      <td>0.000008</td>\n",
              "      <td>...</td>\n",
              "      <td>0.000162</td>\n",
              "      <td>0.002754</td>\n",
              "      <td>2.063666e-04</td>\n",
              "      <td>0.042498</td>\n",
              "      <td>0.010751</td>\n",
              "      <td>0.220013</td>\n",
              "      <td>0.338224</td>\n",
              "      <td>7.795050e-01</td>\n",
              "      <td>5.082158e-06</td>\n",
              "      <td>0.017574</td>\n",
              "      <td>0.009068</td>\n",
              "      <td>8.142557e-07</td>\n",
              "      <td>8.602562e-01</td>\n",
              "      <td>0.017726</td>\n",
              "      <td>0.004084</td>\n",
              "      <td>9.718580e-01</td>\n",
              "      <td>2.991189e-03</td>\n",
              "      <td>1.798860e-04</td>\n",
              "      <td>0.001594</td>\n",
              "      <td>0.046286</td>\n",
              "      <td>0.001931</td>\n",
              "      <td>0.000634</td>\n",
              "      <td>1.916609e-01</td>\n",
              "      <td>1.147833e-01</td>\n",
              "      <td>1.968264e-04</td>\n",
              "      <td>2.286436e-01</td>\n",
              "      <td>0.179498</td>\n",
              "      <td>0.000020</td>\n",
              "      <td>0.000034</td>\n",
              "      <td>7.940481e-04</td>\n",
              "      <td>3.951371e-07</td>\n",
              "      <td>1.173149e-07</td>\n",
              "      <td>0.155024</td>\n",
              "      <td>0.005878</td>\n",
              "      <td>0.003404</td>\n",
              "      <td>0.000154</td>\n",
              "      <td>3.005372e-02</td>\n",
              "      <td>1.559845e-01</td>\n",
              "      <td>0.000511</td>\n",
              "      <td>2.141559e-04</td>\n",
              "    </tr>\n",
              "    <tr>\n",
              "      <th>topic_2</th>\n",
              "      <td>8.684420e-08</td>\n",
              "      <td>0.031961</td>\n",
              "      <td>6.618644e-07</td>\n",
              "      <td>0.000394</td>\n",
              "      <td>0.001909</td>\n",
              "      <td>5.777651e-01</td>\n",
              "      <td>0.000501</td>\n",
              "      <td>2.107283e-12</td>\n",
              "      <td>0.000015</td>\n",
              "      <td>0.000002</td>\n",
              "      <td>2.485581e-07</td>\n",
              "      <td>0.000640</td>\n",
              "      <td>1.566122e-08</td>\n",
              "      <td>2.555126e-10</td>\n",
              "      <td>1.766219e-10</td>\n",
              "      <td>5.107622e-11</td>\n",
              "      <td>0.209466</td>\n",
              "      <td>2.472994e-09</td>\n",
              "      <td>1.581099e-02</td>\n",
              "      <td>4.731986e-07</td>\n",
              "      <td>5.712002e-07</td>\n",
              "      <td>0.000068</td>\n",
              "      <td>0.000034</td>\n",
              "      <td>0.000861</td>\n",
              "      <td>3.681708e-07</td>\n",
              "      <td>6.571203e-09</td>\n",
              "      <td>0.000015</td>\n",
              "      <td>9.520856e-10</td>\n",
              "      <td>0.304582</td>\n",
              "      <td>0.000010</td>\n",
              "      <td>3.808741e-08</td>\n",
              "      <td>3.744420e-09</td>\n",
              "      <td>7.415165e-08</td>\n",
              "      <td>3.644529e-08</td>\n",
              "      <td>0.018415</td>\n",
              "      <td>2.821725e-12</td>\n",
              "      <td>0.000078</td>\n",
              "      <td>4.207837e-08</td>\n",
              "      <td>0.000046</td>\n",
              "      <td>0.000001</td>\n",
              "      <td>...</td>\n",
              "      <td>0.394789</td>\n",
              "      <td>0.000276</td>\n",
              "      <td>4.533514e-11</td>\n",
              "      <td>0.000040</td>\n",
              "      <td>0.002368</td>\n",
              "      <td>0.000013</td>\n",
              "      <td>0.000028</td>\n",
              "      <td>4.804630e-08</td>\n",
              "      <td>5.672026e-03</td>\n",
              "      <td>0.000599</td>\n",
              "      <td>0.008826</td>\n",
              "      <td>6.966792e-01</td>\n",
              "      <td>1.208034e-08</td>\n",
              "      <td>0.000169</td>\n",
              "      <td>0.000022</td>\n",
              "      <td>1.063861e-10</td>\n",
              "      <td>7.608694e-07</td>\n",
              "      <td>1.886843e-09</td>\n",
              "      <td>0.000028</td>\n",
              "      <td>0.000007</td>\n",
              "      <td>0.006566</td>\n",
              "      <td>0.354105</td>\n",
              "      <td>2.389377e-07</td>\n",
              "      <td>1.477903e-07</td>\n",
              "      <td>8.889979e-08</td>\n",
              "      <td>5.586990e-10</td>\n",
              "      <td>0.000059</td>\n",
              "      <td>0.011439</td>\n",
              "      <td>0.004596</td>\n",
              "      <td>3.908717e-07</td>\n",
              "      <td>4.929503e-02</td>\n",
              "      <td>1.913453e-02</td>\n",
              "      <td>0.000002</td>\n",
              "      <td>0.424630</td>\n",
              "      <td>0.000408</td>\n",
              "      <td>0.587406</td>\n",
              "      <td>2.204424e-09</td>\n",
              "      <td>1.605920e-07</td>\n",
              "      <td>0.000006</td>\n",
              "      <td>7.136307e-13</td>\n",
              "    </tr>\n",
              "    <tr>\n",
              "      <th>topic_3</th>\n",
              "      <td>9.985089e-03</td>\n",
              "      <td>0.000003</td>\n",
              "      <td>6.323186e-04</td>\n",
              "      <td>0.054421</td>\n",
              "      <td>0.014808</td>\n",
              "      <td>1.569790e-04</td>\n",
              "      <td>0.054855</td>\n",
              "      <td>1.144827e-01</td>\n",
              "      <td>0.056717</td>\n",
              "      <td>0.001840</td>\n",
              "      <td>7.507964e-04</td>\n",
              "      <td>0.003619</td>\n",
              "      <td>1.348697e-02</td>\n",
              "      <td>3.336097e-04</td>\n",
              "      <td>1.620434e-03</td>\n",
              "      <td>2.383213e-03</td>\n",
              "      <td>0.006471</td>\n",
              "      <td>2.018046e-04</td>\n",
              "      <td>1.832157e-01</td>\n",
              "      <td>7.289042e-01</td>\n",
              "      <td>1.857921e-04</td>\n",
              "      <td>0.000117</td>\n",
              "      <td>0.041925</td>\n",
              "      <td>0.040280</td>\n",
              "      <td>1.487898e-01</td>\n",
              "      <td>1.497199e-05</td>\n",
              "      <td>0.213610</td>\n",
              "      <td>2.717001e-06</td>\n",
              "      <td>0.000194</td>\n",
              "      <td>0.000690</td>\n",
              "      <td>2.362975e-03</td>\n",
              "      <td>1.964082e-02</td>\n",
              "      <td>1.120636e-05</td>\n",
              "      <td>9.247091e-04</td>\n",
              "      <td>0.002850</td>\n",
              "      <td>3.463581e-01</td>\n",
              "      <td>0.608954</td>\n",
              "      <td>6.613769e-04</td>\n",
              "      <td>0.037124</td>\n",
              "      <td>0.002190</td>\n",
              "      <td>...</td>\n",
              "      <td>0.000497</td>\n",
              "      <td>0.000067</td>\n",
              "      <td>4.333331e-03</td>\n",
              "      <td>0.000040</td>\n",
              "      <td>0.007974</td>\n",
              "      <td>0.004199</td>\n",
              "      <td>0.001177</td>\n",
              "      <td>4.150070e-05</td>\n",
              "      <td>1.949820e-02</td>\n",
              "      <td>0.000016</td>\n",
              "      <td>0.000266</td>\n",
              "      <td>6.236014e-06</td>\n",
              "      <td>4.014909e-05</td>\n",
              "      <td>0.006911</td>\n",
              "      <td>0.000101</td>\n",
              "      <td>5.222262e-08</td>\n",
              "      <td>4.773469e-02</td>\n",
              "      <td>4.270081e-02</td>\n",
              "      <td>0.367130</td>\n",
              "      <td>0.001091</td>\n",
              "      <td>0.000058</td>\n",
              "      <td>0.001670</td>\n",
              "      <td>9.989439e-03</td>\n",
              "      <td>2.578859e-02</td>\n",
              "      <td>4.535098e-02</td>\n",
              "      <td>7.998887e-02</td>\n",
              "      <td>0.010290</td>\n",
              "      <td>0.101881</td>\n",
              "      <td>0.000625</td>\n",
              "      <td>1.666463e-04</td>\n",
              "      <td>1.030230e-03</td>\n",
              "      <td>1.427810e-09</td>\n",
              "      <td>0.000245</td>\n",
              "      <td>0.000130</td>\n",
              "      <td>0.000522</td>\n",
              "      <td>0.000225</td>\n",
              "      <td>7.260778e-05</td>\n",
              "      <td>4.724808e-04</td>\n",
              "      <td>0.000952</td>\n",
              "      <td>2.206358e-05</td>\n",
              "    </tr>\n",
              "    <tr>\n",
              "      <th>topic_4</th>\n",
              "      <td>4.206443e-01</td>\n",
              "      <td>0.023032</td>\n",
              "      <td>8.373030e-02</td>\n",
              "      <td>0.000997</td>\n",
              "      <td>0.000003</td>\n",
              "      <td>6.870717e-08</td>\n",
              "      <td>0.000028</td>\n",
              "      <td>8.834111e-07</td>\n",
              "      <td>0.000026</td>\n",
              "      <td>0.001247</td>\n",
              "      <td>2.343993e-02</td>\n",
              "      <td>0.005458</td>\n",
              "      <td>7.418192e-03</td>\n",
              "      <td>1.068938e-01</td>\n",
              "      <td>2.684591e-05</td>\n",
              "      <td>1.541522e-03</td>\n",
              "      <td>0.007399</td>\n",
              "      <td>3.501915e-06</td>\n",
              "      <td>1.122000e-02</td>\n",
              "      <td>5.301623e-03</td>\n",
              "      <td>1.758620e-03</td>\n",
              "      <td>0.018212</td>\n",
              "      <td>0.000126</td>\n",
              "      <td>0.000261</td>\n",
              "      <td>2.399881e-03</td>\n",
              "      <td>3.567913e-03</td>\n",
              "      <td>0.006601</td>\n",
              "      <td>3.036800e-06</td>\n",
              "      <td>0.000308</td>\n",
              "      <td>0.007670</td>\n",
              "      <td>2.060438e-02</td>\n",
              "      <td>9.349939e-03</td>\n",
              "      <td>8.177754e-05</td>\n",
              "      <td>2.117002e-03</td>\n",
              "      <td>0.134466</td>\n",
              "      <td>2.224652e-03</td>\n",
              "      <td>0.004169</td>\n",
              "      <td>6.616707e-05</td>\n",
              "      <td>0.082304</td>\n",
              "      <td>0.002502</td>\n",
              "      <td>...</td>\n",
              "      <td>0.006459</td>\n",
              "      <td>0.009321</td>\n",
              "      <td>4.042792e-03</td>\n",
              "      <td>0.001919</td>\n",
              "      <td>0.265083</td>\n",
              "      <td>0.006940</td>\n",
              "      <td>0.000459</td>\n",
              "      <td>3.374115e-03</td>\n",
              "      <td>6.233720e-05</td>\n",
              "      <td>0.057157</td>\n",
              "      <td>0.038070</td>\n",
              "      <td>3.602958e-06</td>\n",
              "      <td>1.984352e-02</td>\n",
              "      <td>0.450607</td>\n",
              "      <td>0.013420</td>\n",
              "      <td>3.857802e-03</td>\n",
              "      <td>1.269763e-02</td>\n",
              "      <td>4.213771e-03</td>\n",
              "      <td>0.000001</td>\n",
              "      <td>0.265491</td>\n",
              "      <td>0.001361</td>\n",
              "      <td>0.000697</td>\n",
              "      <td>7.903742e-03</td>\n",
              "      <td>3.648249e-02</td>\n",
              "      <td>1.198341e-01</td>\n",
              "      <td>1.156219e-01</td>\n",
              "      <td>0.118540</td>\n",
              "      <td>0.072682</td>\n",
              "      <td>0.401284</td>\n",
              "      <td>4.436399e-02</td>\n",
              "      <td>3.666615e-04</td>\n",
              "      <td>2.596706e-08</td>\n",
              "      <td>0.004904</td>\n",
              "      <td>0.000004</td>\n",
              "      <td>0.004918</td>\n",
              "      <td>0.000094</td>\n",
              "      <td>3.151547e-03</td>\n",
              "      <td>1.810462e-03</td>\n",
              "      <td>0.000090</td>\n",
              "      <td>1.487672e-03</td>\n",
              "    </tr>\n",
              "  </tbody>\n",
              "</table>\n",
              "<p>5 rows × 3430 columns</p>\n",
              "</div>"
            ],
            "text/plain": [
              "                 3001      3002  ...      2999          3000\n",
              "topic_0  7.655325e-02  0.000187  ...  0.011725  1.808449e-05\n",
              "topic_1  5.757245e-02  0.000058  ...  0.000511  2.141559e-04\n",
              "topic_2  8.684420e-08  0.031961  ...  0.000006  7.136307e-13\n",
              "topic_3  9.985089e-03  0.000003  ...  0.000952  2.206358e-05\n",
              "topic_4  4.206443e-01  0.023032  ...  0.000090  1.487672e-03\n",
              "\n",
              "[5 rows x 3430 columns]"
            ]
          },
          "metadata": {
            "tags": []
          },
          "execution_count": 39
        }
      ]
    },
    {
      "cell_type": "markdown",
      "metadata": {
        "id": "zQzfzyVpkN2O"
      },
      "source": [
        "А чтобы получить p(c|d), запустите такой код:"
      ]
    },
    {
      "cell_type": "code",
      "metadata": {
        "id": "7lnkIfuCkN2O"
      },
      "source": [
        "p_cd_test = model.transform(batch_vectorizer=batch_vectorizer, predict_class_id='@labels_class') # !FIX_ME: здесь на самом деле д.б. batch_vectorizer=batch_vectorizer_test"
      ],
      "execution_count": null,
      "outputs": []
    },
    {
      "cell_type": "markdown",
      "metadata": {
        "id": "7Q2_UvhRkN2R"
      },
      "source": [
        "Таким образом, Вы получили предсказания модели в pandas.DataFrame. Теперь Вы можете оценить степень качества предсказаний построенной Вами модели любым способом, который Вам необходим."
      ]
    },
    {
      "cell_type": "markdown",
      "metadata": {
        "id": "mJKrujVVkN2R"
      },
      "source": [
        "### 5. Извлечение $\\Phi$ и $\\Theta$, сохранение и загрузка модели, фильтрация словарей."
      ]
    },
    {
      "cell_type": "markdown",
      "metadata": {
        "collapsed": true,
        "id": "VxtMroARkN2S"
      },
      "source": [
        "Предположим, что у Вас есть данные, Вы обучили на них модель. Настроили все регуляризаторы, посмотрели на метрики качества. Однако набор метрик качества оказался недостаточным, и Вам требуется посчитать какие-то свои величины, основывающиеся на матрицах $\\Phi$ и $\\Theta$. В этом случае Вы можете извлечь эти матрицы наружу следующим кодом:"
      ]
    },
    {
      "cell_type": "code",
      "metadata": {
        "id": "EORL1lwZkN2S"
      },
      "source": [
        "phi = model.get_phi()\n",
        "theta = model.get_theta()"
      ],
      "execution_count": null,
      "outputs": []
    },
    {
      "cell_type": "markdown",
      "metadata": {
        "collapsed": true,
        "id": "6IYeU0E3kN2V"
      },
      "source": [
        "Обязательно учтите, что для извлечения $\\Theta$ флаг cache_theta должен быть равен True. Извлечение матриц можно производить не только целиком (что произойдёт в коде выше), но и по темам (а для $\\Phi$ - еще и по модальностям).\n",
        "\n",
        "Оба метода возвращают pandas.DataFrame."
      ]
    },
    {
      "cell_type": "code",
      "metadata": {
        "id": "Dm7pBrKj9Gbh",
        "colab": {
          "base_uri": "https://localhost:8080/",
          "height": 224
        },
        "outputId": "22559ba8-ddf2-4130-efcc-0b1bee20ac55"
      },
      "source": [
        "phi.head()"
      ],
      "execution_count": null,
      "outputs": [
        {
          "output_type": "execute_result",
          "data": {
            "text/html": [
              "<div>\n",
              "<style scoped>\n",
              "    .dataframe tbody tr th:only-of-type {\n",
              "        vertical-align: middle;\n",
              "    }\n",
              "\n",
              "    .dataframe tbody tr th {\n",
              "        vertical-align: top;\n",
              "    }\n",
              "\n",
              "    .dataframe thead th {\n",
              "        text-align: right;\n",
              "    }\n",
              "</style>\n",
              "<table border=\"1\" class=\"dataframe\">\n",
              "  <thead>\n",
              "    <tr style=\"text-align: right;\">\n",
              "      <th></th>\n",
              "      <th>topic_0</th>\n",
              "      <th>topic_1</th>\n",
              "      <th>topic_2</th>\n",
              "      <th>topic_3</th>\n",
              "      <th>topic_4</th>\n",
              "      <th>topic_5</th>\n",
              "      <th>topic_6</th>\n",
              "      <th>topic_7</th>\n",
              "      <th>topic_8</th>\n",
              "      <th>topic_9</th>\n",
              "      <th>topic_10</th>\n",
              "      <th>topic_11</th>\n",
              "      <th>topic_12</th>\n",
              "      <th>topic_13</th>\n",
              "      <th>topic_14</th>\n",
              "      <th>topic_15</th>\n",
              "      <th>topic_16</th>\n",
              "      <th>topic_17</th>\n",
              "      <th>topic_18</th>\n",
              "      <th>topic_19</th>\n",
              "    </tr>\n",
              "  </thead>\n",
              "  <tbody>\n",
              "    <tr>\n",
              "      <th>sawyer</th>\n",
              "      <td>1.580580e-15</td>\n",
              "      <td>0.000000e+00</td>\n",
              "      <td>6.074622e-09</td>\n",
              "      <td>0.000000e+00</td>\n",
              "      <td>1.453917e-14</td>\n",
              "      <td>1.168839e-14</td>\n",
              "      <td>0.000000e+00</td>\n",
              "      <td>3.249261e-14</td>\n",
              "      <td>1.168317e-14</td>\n",
              "      <td>0.000000e+00</td>\n",
              "      <td>7.412881e-14</td>\n",
              "      <td>0.000000e+00</td>\n",
              "      <td>4.570276e-16</td>\n",
              "      <td>1.945531e-14</td>\n",
              "      <td>0.000000e+00</td>\n",
              "      <td>1.030648e-14</td>\n",
              "      <td>3.673996e-14</td>\n",
              "      <td>3.825178e-04</td>\n",
              "      <td>4.766952e-11</td>\n",
              "      <td>0.000000e+00</td>\n",
              "    </tr>\n",
              "    <tr>\n",
              "      <th>harts</th>\n",
              "      <td>0.000000e+00</td>\n",
              "      <td>0.000000e+00</td>\n",
              "      <td>0.000000e+00</td>\n",
              "      <td>0.000000e+00</td>\n",
              "      <td>0.000000e+00</td>\n",
              "      <td>2.871723e-10</td>\n",
              "      <td>3.580617e-13</td>\n",
              "      <td>0.000000e+00</td>\n",
              "      <td>1.949688e-12</td>\n",
              "      <td>0.000000e+00</td>\n",
              "      <td>0.000000e+00</td>\n",
              "      <td>0.000000e+00</td>\n",
              "      <td>9.057922e-15</td>\n",
              "      <td>0.000000e+00</td>\n",
              "      <td>6.260138e-07</td>\n",
              "      <td>0.000000e+00</td>\n",
              "      <td>0.000000e+00</td>\n",
              "      <td>3.473501e-04</td>\n",
              "      <td>2.368419e-12</td>\n",
              "      <td>3.597647e-12</td>\n",
              "    </tr>\n",
              "    <tr>\n",
              "      <th>amdt</th>\n",
              "      <td>0.000000e+00</td>\n",
              "      <td>0.000000e+00</td>\n",
              "      <td>0.000000e+00</td>\n",
              "      <td>6.712139e-12</td>\n",
              "      <td>4.529132e-13</td>\n",
              "      <td>9.442705e-13</td>\n",
              "      <td>4.351712e-14</td>\n",
              "      <td>1.404769e-12</td>\n",
              "      <td>0.000000e+00</td>\n",
              "      <td>0.000000e+00</td>\n",
              "      <td>0.000000e+00</td>\n",
              "      <td>0.000000e+00</td>\n",
              "      <td>0.000000e+00</td>\n",
              "      <td>2.858336e-13</td>\n",
              "      <td>0.000000e+00</td>\n",
              "      <td>0.000000e+00</td>\n",
              "      <td>8.419933e-12</td>\n",
              "      <td>3.213700e-12</td>\n",
              "      <td>0.000000e+00</td>\n",
              "      <td>6.582513e-04</td>\n",
              "    </tr>\n",
              "    <tr>\n",
              "      <th>zimbabwe</th>\n",
              "      <td>0.000000e+00</td>\n",
              "      <td>1.230303e-07</td>\n",
              "      <td>0.000000e+00</td>\n",
              "      <td>0.000000e+00</td>\n",
              "      <td>1.516547e-16</td>\n",
              "      <td>2.234705e-15</td>\n",
              "      <td>0.000000e+00</td>\n",
              "      <td>1.380370e-15</td>\n",
              "      <td>7.197055e-14</td>\n",
              "      <td>0.000000e+00</td>\n",
              "      <td>0.000000e+00</td>\n",
              "      <td>2.113759e-16</td>\n",
              "      <td>0.000000e+00</td>\n",
              "      <td>0.000000e+00</td>\n",
              "      <td>1.725432e-15</td>\n",
              "      <td>2.542510e-12</td>\n",
              "      <td>4.748122e-04</td>\n",
              "      <td>4.095564e-15</td>\n",
              "      <td>3.960122e-11</td>\n",
              "      <td>0.000000e+00</td>\n",
              "    </tr>\n",
              "    <tr>\n",
              "      <th>lindauer</th>\n",
              "      <td>3.553034e-14</td>\n",
              "      <td>1.410405e-12</td>\n",
              "      <td>0.000000e+00</td>\n",
              "      <td>2.229725e-09</td>\n",
              "      <td>0.000000e+00</td>\n",
              "      <td>0.000000e+00</td>\n",
              "      <td>0.000000e+00</td>\n",
              "      <td>3.303838e-10</td>\n",
              "      <td>1.159777e-12</td>\n",
              "      <td>2.668111e-08</td>\n",
              "      <td>0.000000e+00</td>\n",
              "      <td>4.273816e-04</td>\n",
              "      <td>0.000000e+00</td>\n",
              "      <td>5.913797e-12</td>\n",
              "      <td>0.000000e+00</td>\n",
              "      <td>4.787916e-16</td>\n",
              "      <td>2.068892e-06</td>\n",
              "      <td>0.000000e+00</td>\n",
              "      <td>0.000000e+00</td>\n",
              "      <td>2.415614e-14</td>\n",
              "    </tr>\n",
              "  </tbody>\n",
              "</table>\n",
              "</div>"
            ],
            "text/plain": [
              "               topic_0       topic_1  ...      topic_18      topic_19\n",
              "sawyer    1.580580e-15  0.000000e+00  ...  4.766952e-11  0.000000e+00\n",
              "harts     0.000000e+00  0.000000e+00  ...  2.368419e-12  3.597647e-12\n",
              "amdt      0.000000e+00  0.000000e+00  ...  0.000000e+00  6.582513e-04\n",
              "zimbabwe  0.000000e+00  1.230303e-07  ...  3.960122e-11  0.000000e+00\n",
              "lindauer  3.553034e-14  1.410405e-12  ...  0.000000e+00  2.415614e-14\n",
              "\n",
              "[5 rows x 20 columns]"
            ]
          },
          "metadata": {
            "tags": []
          },
          "execution_count": 42
        }
      ]
    },
    {
      "cell_type": "code",
      "metadata": {
        "id": "TFISZAyf9JBs",
        "colab": {
          "base_uri": "https://localhost:8080/",
          "height": 338
        },
        "outputId": "cc2408f9-b1dd-4bc9-b582-147a941c0b1a"
      },
      "source": [
        "theta.head()"
      ],
      "execution_count": null,
      "outputs": [
        {
          "output_type": "execute_result",
          "data": {
            "text/html": [
              "<div>\n",
              "<style scoped>\n",
              "    .dataframe tbody tr th:only-of-type {\n",
              "        vertical-align: middle;\n",
              "    }\n",
              "\n",
              "    .dataframe tbody tr th {\n",
              "        vertical-align: top;\n",
              "    }\n",
              "\n",
              "    .dataframe thead th {\n",
              "        text-align: right;\n",
              "    }\n",
              "</style>\n",
              "<table border=\"1\" class=\"dataframe\">\n",
              "  <thead>\n",
              "    <tr style=\"text-align: right;\">\n",
              "      <th></th>\n",
              "      <th>3001</th>\n",
              "      <th>3002</th>\n",
              "      <th>3003</th>\n",
              "      <th>3004</th>\n",
              "      <th>3005</th>\n",
              "      <th>3006</th>\n",
              "      <th>3007</th>\n",
              "      <th>3008</th>\n",
              "      <th>3009</th>\n",
              "      <th>3010</th>\n",
              "      <th>3011</th>\n",
              "      <th>3012</th>\n",
              "      <th>3013</th>\n",
              "      <th>3014</th>\n",
              "      <th>3015</th>\n",
              "      <th>3016</th>\n",
              "      <th>3017</th>\n",
              "      <th>3018</th>\n",
              "      <th>3019</th>\n",
              "      <th>3020</th>\n",
              "      <th>3021</th>\n",
              "      <th>3022</th>\n",
              "      <th>3023</th>\n",
              "      <th>3024</th>\n",
              "      <th>3025</th>\n",
              "      <th>3026</th>\n",
              "      <th>3027</th>\n",
              "      <th>3028</th>\n",
              "      <th>3029</th>\n",
              "      <th>3030</th>\n",
              "      <th>3031</th>\n",
              "      <th>3032</th>\n",
              "      <th>3033</th>\n",
              "      <th>3034</th>\n",
              "      <th>3035</th>\n",
              "      <th>3036</th>\n",
              "      <th>3037</th>\n",
              "      <th>3038</th>\n",
              "      <th>3039</th>\n",
              "      <th>3040</th>\n",
              "      <th>...</th>\n",
              "      <th>2961</th>\n",
              "      <th>2962</th>\n",
              "      <th>2963</th>\n",
              "      <th>2964</th>\n",
              "      <th>2965</th>\n",
              "      <th>2966</th>\n",
              "      <th>2967</th>\n",
              "      <th>2968</th>\n",
              "      <th>2969</th>\n",
              "      <th>2970</th>\n",
              "      <th>2971</th>\n",
              "      <th>2972</th>\n",
              "      <th>2973</th>\n",
              "      <th>2974</th>\n",
              "      <th>2975</th>\n",
              "      <th>2976</th>\n",
              "      <th>2977</th>\n",
              "      <th>2978</th>\n",
              "      <th>2979</th>\n",
              "      <th>2980</th>\n",
              "      <th>2981</th>\n",
              "      <th>2982</th>\n",
              "      <th>2983</th>\n",
              "      <th>2984</th>\n",
              "      <th>2985</th>\n",
              "      <th>2986</th>\n",
              "      <th>2987</th>\n",
              "      <th>2988</th>\n",
              "      <th>2989</th>\n",
              "      <th>2990</th>\n",
              "      <th>2991</th>\n",
              "      <th>2992</th>\n",
              "      <th>2993</th>\n",
              "      <th>2994</th>\n",
              "      <th>2995</th>\n",
              "      <th>2996</th>\n",
              "      <th>2997</th>\n",
              "      <th>2998</th>\n",
              "      <th>2999</th>\n",
              "      <th>3000</th>\n",
              "    </tr>\n",
              "  </thead>\n",
              "  <tbody>\n",
              "    <tr>\n",
              "      <th>topic_0</th>\n",
              "      <td>7.087864e-02</td>\n",
              "      <td>0.000257</td>\n",
              "      <td>1.019987e-02</td>\n",
              "      <td>0.173995</td>\n",
              "      <td>0.008276</td>\n",
              "      <td>4.702336e-07</td>\n",
              "      <td>0.044054</td>\n",
              "      <td>1.118001e-04</td>\n",
              "      <td>0.000832</td>\n",
              "      <td>0.002299</td>\n",
              "      <td>2.232762e-02</td>\n",
              "      <td>0.002389</td>\n",
              "      <td>4.575441e-04</td>\n",
              "      <td>4.884994e-03</td>\n",
              "      <td>3.407793e-05</td>\n",
              "      <td>5.288344e-04</td>\n",
              "      <td>0.018395</td>\n",
              "      <td>2.604860e-05</td>\n",
              "      <td>0.000001</td>\n",
              "      <td>2.276880e-02</td>\n",
              "      <td>1.039020e-06</td>\n",
              "      <td>0.010464</td>\n",
              "      <td>0.011608</td>\n",
              "      <td>0.216781</td>\n",
              "      <td>6.152885e-02</td>\n",
              "      <td>1.252777e-03</td>\n",
              "      <td>0.000021</td>\n",
              "      <td>1.392566e-05</td>\n",
              "      <td>0.000207</td>\n",
              "      <td>0.083618</td>\n",
              "      <td>8.572354e-02</td>\n",
              "      <td>1.388343e-02</td>\n",
              "      <td>2.095680e-06</td>\n",
              "      <td>7.041005e-04</td>\n",
              "      <td>0.001829</td>\n",
              "      <td>6.655575e-05</td>\n",
              "      <td>0.036892</td>\n",
              "      <td>2.730118e-04</td>\n",
              "      <td>0.003392</td>\n",
              "      <td>0.000011</td>\n",
              "      <td>...</td>\n",
              "      <td>0.008621</td>\n",
              "      <td>0.132581</td>\n",
              "      <td>3.038033e-01</td>\n",
              "      <td>0.004645</td>\n",
              "      <td>0.115369</td>\n",
              "      <td>0.003085</td>\n",
              "      <td>0.001127</td>\n",
              "      <td>2.380121e-03</td>\n",
              "      <td>8.655534e-08</td>\n",
              "      <td>0.009203</td>\n",
              "      <td>0.002818</td>\n",
              "      <td>1.721807e-06</td>\n",
              "      <td>5.451525e-05</td>\n",
              "      <td>0.387338</td>\n",
              "      <td>0.001914</td>\n",
              "      <td>3.377678e-06</td>\n",
              "      <td>1.517336e-02</td>\n",
              "      <td>9.810560e-04</td>\n",
              "      <td>0.090942</td>\n",
              "      <td>0.006051</td>\n",
              "      <td>0.001942</td>\n",
              "      <td>0.004335</td>\n",
              "      <td>7.978920e-03</td>\n",
              "      <td>1.987912e-03</td>\n",
              "      <td>2.844177e-02</td>\n",
              "      <td>9.110891e-03</td>\n",
              "      <td>0.005811</td>\n",
              "      <td>0.031453</td>\n",
              "      <td>0.000541</td>\n",
              "      <td>4.259612e-02</td>\n",
              "      <td>1.436941e-04</td>\n",
              "      <td>6.215406e-06</td>\n",
              "      <td>0.001538</td>\n",
              "      <td>0.000025</td>\n",
              "      <td>0.023798</td>\n",
              "      <td>0.006381</td>\n",
              "      <td>7.190107e-02</td>\n",
              "      <td>3.113123e-04</td>\n",
              "      <td>0.017994</td>\n",
              "      <td>1.779143e-05</td>\n",
              "    </tr>\n",
              "    <tr>\n",
              "      <th>topic_1</th>\n",
              "      <td>5.432793e-02</td>\n",
              "      <td>0.000056</td>\n",
              "      <td>3.958819e-05</td>\n",
              "      <td>0.000191</td>\n",
              "      <td>0.000004</td>\n",
              "      <td>2.066767e-08</td>\n",
              "      <td>0.011795</td>\n",
              "      <td>4.760951e-07</td>\n",
              "      <td>0.000011</td>\n",
              "      <td>0.000089</td>\n",
              "      <td>1.235943e-02</td>\n",
              "      <td>0.006745</td>\n",
              "      <td>4.980803e-02</td>\n",
              "      <td>4.795023e-02</td>\n",
              "      <td>1.134349e-02</td>\n",
              "      <td>7.581239e-02</td>\n",
              "      <td>0.007029</td>\n",
              "      <td>4.914259e-05</td>\n",
              "      <td>0.048806</td>\n",
              "      <td>3.691733e-04</td>\n",
              "      <td>6.994807e-02</td>\n",
              "      <td>0.689687</td>\n",
              "      <td>0.497428</td>\n",
              "      <td>0.000003</td>\n",
              "      <td>6.763391e-06</td>\n",
              "      <td>1.570594e-02</td>\n",
              "      <td>0.000048</td>\n",
              "      <td>4.460410e-05</td>\n",
              "      <td>0.000218</td>\n",
              "      <td>0.000277</td>\n",
              "      <td>1.119641e-02</td>\n",
              "      <td>1.211536e-02</td>\n",
              "      <td>1.684376e-04</td>\n",
              "      <td>1.092155e-04</td>\n",
              "      <td>0.003845</td>\n",
              "      <td>1.603009e-07</td>\n",
              "      <td>0.001900</td>\n",
              "      <td>1.208748e-03</td>\n",
              "      <td>0.014525</td>\n",
              "      <td>0.000011</td>\n",
              "      <td>...</td>\n",
              "      <td>0.000218</td>\n",
              "      <td>0.004114</td>\n",
              "      <td>2.537086e-04</td>\n",
              "      <td>0.046546</td>\n",
              "      <td>0.012405</td>\n",
              "      <td>0.206888</td>\n",
              "      <td>0.360079</td>\n",
              "      <td>7.663108e-01</td>\n",
              "      <td>3.808901e-06</td>\n",
              "      <td>0.021103</td>\n",
              "      <td>0.009095</td>\n",
              "      <td>9.540734e-07</td>\n",
              "      <td>8.525954e-01</td>\n",
              "      <td>0.015405</td>\n",
              "      <td>0.007209</td>\n",
              "      <td>9.780619e-01</td>\n",
              "      <td>4.543854e-03</td>\n",
              "      <td>1.375811e-04</td>\n",
              "      <td>0.001177</td>\n",
              "      <td>0.041041</td>\n",
              "      <td>0.002937</td>\n",
              "      <td>0.000680</td>\n",
              "      <td>1.875941e-01</td>\n",
              "      <td>1.069639e-01</td>\n",
              "      <td>2.231957e-04</td>\n",
              "      <td>2.263597e-01</td>\n",
              "      <td>0.182818</td>\n",
              "      <td>0.000018</td>\n",
              "      <td>0.000058</td>\n",
              "      <td>9.783685e-04</td>\n",
              "      <td>5.480257e-07</td>\n",
              "      <td>1.312355e-07</td>\n",
              "      <td>0.154562</td>\n",
              "      <td>0.006293</td>\n",
              "      <td>0.005249</td>\n",
              "      <td>0.000214</td>\n",
              "      <td>3.090288e-02</td>\n",
              "      <td>1.524375e-01</td>\n",
              "      <td>0.000419</td>\n",
              "      <td>2.345795e-04</td>\n",
              "    </tr>\n",
              "    <tr>\n",
              "      <th>topic_2</th>\n",
              "      <td>6.634311e-08</td>\n",
              "      <td>0.032853</td>\n",
              "      <td>4.431528e-07</td>\n",
              "      <td>0.000354</td>\n",
              "      <td>0.001381</td>\n",
              "      <td>6.130345e-01</td>\n",
              "      <td>0.000302</td>\n",
              "      <td>1.503435e-12</td>\n",
              "      <td>0.000022</td>\n",
              "      <td>0.000003</td>\n",
              "      <td>2.536980e-07</td>\n",
              "      <td>0.000795</td>\n",
              "      <td>2.143861e-08</td>\n",
              "      <td>4.175419e-10</td>\n",
              "      <td>2.753134e-10</td>\n",
              "      <td>7.769298e-11</td>\n",
              "      <td>0.219795</td>\n",
              "      <td>2.346799e-09</td>\n",
              "      <td>0.014947</td>\n",
              "      <td>4.169919e-07</td>\n",
              "      <td>4.580494e-07</td>\n",
              "      <td>0.000048</td>\n",
              "      <td>0.000021</td>\n",
              "      <td>0.000730</td>\n",
              "      <td>3.521197e-07</td>\n",
              "      <td>8.849311e-09</td>\n",
              "      <td>0.000025</td>\n",
              "      <td>1.039433e-09</td>\n",
              "      <td>0.324380</td>\n",
              "      <td>0.000010</td>\n",
              "      <td>3.007991e-08</td>\n",
              "      <td>5.102265e-09</td>\n",
              "      <td>8.434267e-08</td>\n",
              "      <td>5.820415e-08</td>\n",
              "      <td>0.025576</td>\n",
              "      <td>3.890514e-12</td>\n",
              "      <td>0.000079</td>\n",
              "      <td>3.123276e-08</td>\n",
              "      <td>0.000040</td>\n",
              "      <td>0.000003</td>\n",
              "      <td>...</td>\n",
              "      <td>0.414984</td>\n",
              "      <td>0.000242</td>\n",
              "      <td>4.736844e-11</td>\n",
              "      <td>0.000042</td>\n",
              "      <td>0.001860</td>\n",
              "      <td>0.000017</td>\n",
              "      <td>0.000053</td>\n",
              "      <td>5.788990e-08</td>\n",
              "      <td>4.838091e-03</td>\n",
              "      <td>0.000717</td>\n",
              "      <td>0.008528</td>\n",
              "      <td>7.332778e-01</td>\n",
              "      <td>9.207286e-09</td>\n",
              "      <td>0.000156</td>\n",
              "      <td>0.000020</td>\n",
              "      <td>1.115635e-10</td>\n",
              "      <td>7.449190e-07</td>\n",
              "      <td>1.170146e-09</td>\n",
              "      <td>0.000026</td>\n",
              "      <td>0.000005</td>\n",
              "      <td>0.006849</td>\n",
              "      <td>0.368779</td>\n",
              "      <td>2.569950e-07</td>\n",
              "      <td>1.788534e-07</td>\n",
              "      <td>9.206292e-08</td>\n",
              "      <td>9.060754e-10</td>\n",
              "      <td>0.000069</td>\n",
              "      <td>0.011180</td>\n",
              "      <td>0.003377</td>\n",
              "      <td>3.355027e-07</td>\n",
              "      <td>4.714651e-02</td>\n",
              "      <td>1.923964e-02</td>\n",
              "      <td>0.000002</td>\n",
              "      <td>0.450995</td>\n",
              "      <td>0.000331</td>\n",
              "      <td>0.602991</td>\n",
              "      <td>2.439416e-09</td>\n",
              "      <td>1.975270e-07</td>\n",
              "      <td>0.000006</td>\n",
              "      <td>9.678814e-13</td>\n",
              "    </tr>\n",
              "    <tr>\n",
              "      <th>topic_3</th>\n",
              "      <td>9.756221e-03</td>\n",
              "      <td>0.000002</td>\n",
              "      <td>1.319543e-03</td>\n",
              "      <td>0.072878</td>\n",
              "      <td>0.013532</td>\n",
              "      <td>1.619733e-04</td>\n",
              "      <td>0.109941</td>\n",
              "      <td>1.226580e-01</td>\n",
              "      <td>0.060136</td>\n",
              "      <td>0.002527</td>\n",
              "      <td>1.502048e-03</td>\n",
              "      <td>0.004367</td>\n",
              "      <td>1.693345e-02</td>\n",
              "      <td>5.986773e-04</td>\n",
              "      <td>1.594425e-03</td>\n",
              "      <td>2.131003e-03</td>\n",
              "      <td>0.005438</td>\n",
              "      <td>1.066288e-04</td>\n",
              "      <td>0.175338</td>\n",
              "      <td>7.151598e-01</td>\n",
              "      <td>1.778246e-04</td>\n",
              "      <td>0.000165</td>\n",
              "      <td>0.043368</td>\n",
              "      <td>0.040722</td>\n",
              "      <td>1.808591e-01</td>\n",
              "      <td>2.261724e-05</td>\n",
              "      <td>0.222205</td>\n",
              "      <td>2.910747e-06</td>\n",
              "      <td>0.000155</td>\n",
              "      <td>0.001315</td>\n",
              "      <td>2.130395e-03</td>\n",
              "      <td>1.754035e-02</td>\n",
              "      <td>1.815219e-05</td>\n",
              "      <td>2.093627e-03</td>\n",
              "      <td>0.004303</td>\n",
              "      <td>3.180600e-01</td>\n",
              "      <td>0.596139</td>\n",
              "      <td>9.503701e-04</td>\n",
              "      <td>0.052298</td>\n",
              "      <td>0.001879</td>\n",
              "      <td>...</td>\n",
              "      <td>0.000626</td>\n",
              "      <td>0.000074</td>\n",
              "      <td>3.028514e-03</td>\n",
              "      <td>0.000089</td>\n",
              "      <td>0.008001</td>\n",
              "      <td>0.005978</td>\n",
              "      <td>0.001788</td>\n",
              "      <td>7.219035e-05</td>\n",
              "      <td>1.970071e-02</td>\n",
              "      <td>0.000017</td>\n",
              "      <td>0.000424</td>\n",
              "      <td>6.122718e-06</td>\n",
              "      <td>3.693978e-05</td>\n",
              "      <td>0.006054</td>\n",
              "      <td>0.000156</td>\n",
              "      <td>9.926159e-08</td>\n",
              "      <td>5.387390e-02</td>\n",
              "      <td>4.264609e-02</td>\n",
              "      <td>0.373050</td>\n",
              "      <td>0.001841</td>\n",
              "      <td>0.000077</td>\n",
              "      <td>0.002328</td>\n",
              "      <td>1.398437e-02</td>\n",
              "      <td>4.751192e-02</td>\n",
              "      <td>4.622108e-02</td>\n",
              "      <td>8.434097e-02</td>\n",
              "      <td>0.008532</td>\n",
              "      <td>0.109900</td>\n",
              "      <td>0.001671</td>\n",
              "      <td>1.919381e-04</td>\n",
              "      <td>1.133071e-03</td>\n",
              "      <td>2.129721e-09</td>\n",
              "      <td>0.000344</td>\n",
              "      <td>0.000152</td>\n",
              "      <td>0.000624</td>\n",
              "      <td>0.000305</td>\n",
              "      <td>7.435334e-05</td>\n",
              "      <td>5.025494e-04</td>\n",
              "      <td>0.001009</td>\n",
              "      <td>2.981438e-05</td>\n",
              "    </tr>\n",
              "    <tr>\n",
              "      <th>topic_4</th>\n",
              "      <td>4.478861e-01</td>\n",
              "      <td>0.023251</td>\n",
              "      <td>8.394602e-02</td>\n",
              "      <td>0.001612</td>\n",
              "      <td>0.000006</td>\n",
              "      <td>1.348207e-07</td>\n",
              "      <td>0.000035</td>\n",
              "      <td>1.192210e-06</td>\n",
              "      <td>0.000023</td>\n",
              "      <td>0.001571</td>\n",
              "      <td>3.987674e-02</td>\n",
              "      <td>0.008463</td>\n",
              "      <td>8.182053e-03</td>\n",
              "      <td>1.137103e-01</td>\n",
              "      <td>3.205889e-05</td>\n",
              "      <td>1.165384e-03</td>\n",
              "      <td>0.006454</td>\n",
              "      <td>4.846037e-06</td>\n",
              "      <td>0.012639</td>\n",
              "      <td>6.349224e-03</td>\n",
              "      <td>1.450252e-03</td>\n",
              "      <td>0.017372</td>\n",
              "      <td>0.000152</td>\n",
              "      <td>0.000374</td>\n",
              "      <td>3.529313e-03</td>\n",
              "      <td>3.901662e-03</td>\n",
              "      <td>0.004515</td>\n",
              "      <td>3.404806e-06</td>\n",
              "      <td>0.000428</td>\n",
              "      <td>0.007746</td>\n",
              "      <td>2.386326e-02</td>\n",
              "      <td>1.259147e-02</td>\n",
              "      <td>1.291956e-04</td>\n",
              "      <td>2.875577e-03</td>\n",
              "      <td>0.104030</td>\n",
              "      <td>2.165060e-03</td>\n",
              "      <td>0.006190</td>\n",
              "      <td>7.050030e-05</td>\n",
              "      <td>0.085364</td>\n",
              "      <td>0.002986</td>\n",
              "      <td>...</td>\n",
              "      <td>0.007054</td>\n",
              "      <td>0.008977</td>\n",
              "      <td>3.650552e-03</td>\n",
              "      <td>0.001983</td>\n",
              "      <td>0.261314</td>\n",
              "      <td>0.007002</td>\n",
              "      <td>0.000784</td>\n",
              "      <td>4.512277e-03</td>\n",
              "      <td>2.170674e-05</td>\n",
              "      <td>0.062225</td>\n",
              "      <td>0.050942</td>\n",
              "      <td>3.455639e-06</td>\n",
              "      <td>1.904870e-02</td>\n",
              "      <td>0.473871</td>\n",
              "      <td>0.015739</td>\n",
              "      <td>2.943306e-03</td>\n",
              "      <td>1.290257e-02</td>\n",
              "      <td>3.102232e-03</td>\n",
              "      <td>0.000001</td>\n",
              "      <td>0.304178</td>\n",
              "      <td>0.001531</td>\n",
              "      <td>0.000921</td>\n",
              "      <td>8.760727e-03</td>\n",
              "      <td>4.032418e-02</td>\n",
              "      <td>1.125263e-01</td>\n",
              "      <td>1.145813e-01</td>\n",
              "      <td>0.124067</td>\n",
              "      <td>0.070877</td>\n",
              "      <td>0.392168</td>\n",
              "      <td>4.087957e-02</td>\n",
              "      <td>3.885822e-04</td>\n",
              "      <td>3.057414e-08</td>\n",
              "      <td>0.006166</td>\n",
              "      <td>0.000006</td>\n",
              "      <td>0.005402</td>\n",
              "      <td>0.000112</td>\n",
              "      <td>2.895299e-03</td>\n",
              "      <td>1.473001e-03</td>\n",
              "      <td>0.000101</td>\n",
              "      <td>1.736164e-03</td>\n",
              "    </tr>\n",
              "  </tbody>\n",
              "</table>\n",
              "<p>5 rows × 3430 columns</p>\n",
              "</div>"
            ],
            "text/plain": [
              "                 3001      3002  ...      2999          3000\n",
              "topic_0  7.087864e-02  0.000257  ...  0.017994  1.779143e-05\n",
              "topic_1  5.432793e-02  0.000056  ...  0.000419  2.345795e-04\n",
              "topic_2  6.634311e-08  0.032853  ...  0.000006  9.678814e-13\n",
              "topic_3  9.756221e-03  0.000002  ...  0.001009  2.981438e-05\n",
              "topic_4  4.478861e-01  0.023251  ...  0.000101  1.736164e-03\n",
              "\n",
              "[5 rows x 3430 columns]"
            ]
          },
          "metadata": {
            "tags": []
          },
          "execution_count": 43
        }
      ]
    },
    {
      "cell_type": "markdown",
      "metadata": {
        "id": "YEobS0orkN2W"
      },
      "source": [
        "Теперь перейдём к вопросу сохранения модели на диск для дальнейшего использования.\n",
        "\n",
        "Здесь важно понимать, что модель состоит из двух матриц - $\\Phi$ (она же $p_{wt}$) и $n_{wt}$. Для того, чтобы её можно было загрузить обратно и продолжить обучение с того же места, необходимо сохранять и загружать обе матрицы. Текущая версия библиотеки умеет сохранять только одну матрицу, поэтому придётся сделать два вызова save:"
      ]
    },
    {
      "cell_type": "code",
      "metadata": {
        "id": "okF-7lX8kN2W"
      },
      "source": [
        "model.save(filename='saved_p_wt', model_name='p_wt')\n",
        "model.save(filename='saved_n_wt', model_name='n_wt')"
      ],
      "execution_count": null,
      "outputs": []
    },
    {
      "cell_type": "markdown",
      "metadata": {
        "id": "g5MmdhblkN2Y"
      },
      "source": [
        "Модель будет сохранена в бинарном виде, её можно использовать в дальнейшем, достаточно загрузить эти файлы обратно вызовами:"
      ]
    },
    {
      "cell_type": "code",
      "metadata": {
        "id": "tm3UtFJbkN2Y"
      },
      "source": [
        "model.load(filename='saved_p_wt', model_name='p_wt')\n",
        "model.load(filename='saved_n_wt', model_name='n_wt')"
      ],
      "execution_count": null,
      "outputs": []
    },
    {
      "cell_type": "markdown",
      "metadata": {
        "id": "kwGE59FGkN2Z"
      },
      "source": [
        "Надо понимать, что модель после загрузки содержит только матрицы $\\Phi$ и $n_{wt}$ и сопутствующую информацию (число и имена тем, имена (но не веса!) модальностей и некоторые другие параметры). Поэтому от Вас потребуется некоторые усилия, чтобы вернуть модели все метрики, регуляризаторы, веса модальностей и важные для Вас параметры, вроде cache_theta. Если Вам это всё, конечно, нужно. Делается это в тех случаях, когда обучение модели с нуля занимает очень много времени и быстрее прописать заново параметры."
      ]
    },
    {
      "cell_type": "markdown",
      "metadata": {
        "id": "efespf4DkN2a"
      },
      "source": [
        "Последнее, чего мы коснёмся в этом разделе - словари. А именно - их возможности по самофильтрации. Вспомним вид словаря, выгруженного в текстовом виде. Это были строки, каждая соответствует одному слову, и в ней 5 значений: само слово (строка), его модальность (строка), его value (число), и две пока ещё неизвестных величины token_tf и token_df (тоже числа). Раскроем, наконец, их смысл, который довольно прост: это, соответственно, частота слова в коллекции (нормировкой это величины получается исходное value) и подокументная частота (т. е. в скольки документах коллекции слово встретилось хотя бы раз). Эти величины, как и value, генерируются библиотекой при сборе словаря. Отличие от value в том, что они не используются в регуляризаторах и метриках. Поэтому их менять бессмысленно и не следует.\n",
        "\n",
        "Они нужны для того, чтобы фильтровать словарь коллекции. Наверняка Вам не нужны слишком редкие, или же слишком частые слова. Ну или хочется уменьшить словарь, чтобы модель влезала в память. В обоих случаях решение одно, и оно очень простое - Dictionary.filter(). Посмотрите, какие у этого метода есть параметры здесь http://bigartm.readthedocs.org/en/master/api_references/python_interface/dictionary.html. Итак, будем фильтровать модальность обычных слов:"
      ]
    },
    {
      "cell_type": "code",
      "metadata": {
        "id": "kBOevT6DkN2a",
        "colab": {
          "base_uri": "https://localhost:8080/",
          "height": 34
        },
        "outputId": "390271db-67a2-4a83-a96e-4a44619b2d43"
      },
      "source": [
        "dictionary.filter(min_tf=10, max_tf=2000, min_df_rate=0.01)"
      ],
      "execution_count": null,
      "outputs": [
        {
          "output_type": "execute_result",
          "data": {
            "text/plain": [
              "artm.Dictionary(name=1ec8d593-6f5f-448a-9377-b4a8ebbaf497, num_entries=2266)"
            ]
          },
          "metadata": {
            "tags": []
          },
          "execution_count": 46
        }
      ]
    },
    {
      "cell_type": "markdown",
      "metadata": {
        "id": "VtBcZyzCkN2c"
      },
      "source": [
        "Поясню: если суффикса \\_rate нет, то используется абсолютная величина, если есть - нормированная (т. е. от 0 до 1).\n",
        "\n",
        "У этого вызова есть одна особенность - он перезаписывает старый словарь новым. Поэтому, если не хотите потерять полноценный нефильтрованный словарь, сохраните его сперва на диск, а потом уже с оставшейся в памяти копией выполняйте операции фильтрации."
      ]
    },
    {
      "cell_type": "markdown",
      "metadata": {
        "id": "O35apTKAmpP9"
      },
      "source": [
        "### Факультативно: Модельный эксперимент с использованием BigARTM Python API."
      ]
    },
    {
      "cell_type": "markdown",
      "metadata": {
        "id": "bKE9mFzlmpP-"
      },
      "source": [
        "Credits: **Мурат Апишев** (great-mel@yandex.ru)"
      ]
    },
    {
      "cell_type": "markdown",
      "metadata": {
        "id": "ugbWAOklmpP_"
      },
      "source": [
        "#### Описание:\n",
        "Построим две тематические модели коллекции текстовых документов, ARTM и PLSA, сравним качество полученных моделей.\n",
        "\n",
        "#### Функционалы качества:\n",
        "Важным функционалом является перплексия коллекции. Тем не менее это далеко не единственная величина, характеризующая качество обучения. В BigARTM реализованы следующие функционалы:\n",
        "\n",
        "- разреженность матрицы $\\Phi$ (слова-темы);\n",
        "- разреженность матрицы $\\Theta$ (темы-документы);\n",
        "- характеристики ядер тем (чистота, контрастность, размер);\n",
        "- перплексия;\n",
        "- веса тем;\n",
        "- доля фоновых слов;\n",
        "- когерентность топ-слов и слов из ядер тем.\n",
        "\n",
        "Мы будем использовать первые четыре. Более сильные разреженности матриц и более высокие средние значения чистоты и контрастности способствуют большей интерпретируемости модели.\n",
        "\n",
        "#### Цель эксперимента:\n",
        "Попробуем обучить модель ARTM таким образом, чтобы, в сравнении с PLSA, улучшить значения разреженностей и ядровых характеристик и не сильно ухудшить перплексию.\n",
        "\n",
        "Основным инструментом для корректирования процесса обучения являются регуляризаторы. Список имеющихся в BigARTM регуляризаторов:\n",
        "\n",
        "- разреживание матрицы $\\Phi$ (+ частичное обучение);\n",
        "- разреживание матрицы $\\Theta$ (+ частичное обучение);\n",
        "- декоррелирование тем в матрице $\\Phi$;\n",
        "- принудительное разреживание $\\Phi$;\n",
        "- балансирование классов (Label Regularization);\n",
        "- повышение когерентности.\n",
        "\n",
        "В этом эксперименте для обучения ARTM воспользуемся первыми тремя регуляризаторами. ARTM без регуляризации соответствует PLSA.\n",
        "\n",
        "#### Коллекция:\n",
        "Воспользуемся небольшой коллекцией 'kos', доступной в репозитории UCI https://archive.ics.uci.edu/ml/machine-learning-databases/bag-of-words/. Параметры коллекции следующие:\n",
        "\n",
        "- 3430 документов;\n",
        "- 6906 слов в словаре;\n",
        "- 467714 ненулевых счётчиков в \"мешке слов\"."
      ]
    },
    {
      "cell_type": "markdown",
      "metadata": {
        "id": "_jkEWgSZmpQA"
      },
      "source": [
        "Для начала подключим все необходимые модули:"
      ]
    },
    {
      "cell_type": "code",
      "metadata": {
        "id": "oKtEK8uGmpQA"
      },
      "source": [
        "%matplotlib inline\n",
        "import glob\n",
        "import os\n",
        "import matplotlib.pyplot as plt\n",
        "\n",
        "# import artm"
      ],
      "execution_count": null,
      "outputs": []
    },
    {
      "cell_type": "markdown",
      "metadata": {
        "id": "t7g9_z_ompQD"
      },
      "source": [
        "Далее необходимо подготовить входные данные.\n",
        "\n",
        "Создадим объект BatchVectorizer:"
      ]
    },
    {
      "cell_type": "code",
      "metadata": {
        "id": "MaIAEEZ0mpQE"
      },
      "source": [
        "batch_vectorizer = None\n",
        "if len(glob.glob(os.path.join('kos', '*.batch'))) < 1:\n",
        "    batch_vectorizer = artm.BatchVectorizer(data_path='', data_format='bow_uci', collection_name='kos', target_folder='kos')\n",
        "else:\n",
        "    batch_vectorizer = artm.BatchVectorizer(data_path='kos', data_format='batches')"
      ],
      "execution_count": null,
      "outputs": []
    },
    {
      "cell_type": "code",
      "metadata": {
        "id": "K_Zo5cPnmpQH"
      },
      "source": [
        "dictionary = artm.Dictionary()\n",
        "\n",
        "model_plsa = artm.ARTM(topic_names=['topic_{}'.format(i) for i in range(15)],\n",
        "                       scores=[artm.PerplexityScore(name='PerplexityScore',\n",
        "                                                    # use_unigram_document_model=False,\n",
        "                                                    dictionary=dictionary)],\n",
        "                       cache_theta=True)\n",
        "\n",
        "model_artm = artm.ARTM(topic_names=['topic_{}'.format(i) for i in range(15)],\n",
        "                       scores=[artm.PerplexityScore(name='PerplexityScore',\n",
        "                                                    # use_unigram_document_model=False,\n",
        "                                                    dictionary=dictionary)],\n",
        "                       regularizers=[artm.SmoothSparseThetaRegularizer(name='SparseTheta', tau=-0.15)],\n",
        "                       cache_theta=True)"
      ],
      "execution_count": null,
      "outputs": []
    },
    {
      "cell_type": "markdown",
      "metadata": {
        "id": "zCWf0sVkmpQJ"
      },
      "source": [
        "Следующий шаг — инициализация моделей. Сделаем это по словарю."
      ]
    },
    {
      "cell_type": "code",
      "metadata": {
        "id": "2oNQX0w9mpQJ"
      },
      "source": [
        "if not os.path.isfile('kos/dictionary.dict'):\n",
        "    dictionary.gather(data_path=batch_vectorizer.data_path)\n",
        "    dictionary.save(dictionary_path='kos/dictionary.dict')\n",
        "\n",
        "dictionary.load(dictionary_path='kos/dictionary.dict')\n",
        "dictionary.load(dictionary_path='kos/dictionary.dict')"
      ],
      "execution_count": null,
      "outputs": []
    },
    {
      "cell_type": "markdown",
      "metadata": {
        "id": "zygMjDPxmpQM"
      },
      "source": [
        "Затем словари можно использовать, чтобы инициализировать модель:"
      ]
    },
    {
      "cell_type": "code",
      "metadata": {
        "id": "QkURJUlZmpQM"
      },
      "source": [
        "model_plsa.initialize(dictionary=dictionary)\n",
        "model_artm.initialize(dictionary=dictionary)"
      ],
      "execution_count": null,
      "outputs": []
    },
    {
      "cell_type": "markdown",
      "metadata": {
        "id": "o3SuHFOhmpQO"
      },
      "source": [
        "Как уже было сказано, ARTM предоставляет возможность использовать все функционалы качества, имеющиеся в BigARTM. Если функционал подключен к модели, то модель будет сохранять все его значения, полученные на момент каждого обновления матрицы $\\Phi$. Добавим функционалы качества, нужные для нашего эксперимента, которые отсутствовали в конструкторах:"
      ]
    },
    {
      "cell_type": "code",
      "metadata": {
        "id": "LMfnvax7mpQP"
      },
      "source": [
        "model_plsa.scores.add(artm.SparsityPhiScore(name='SparsityPhiScore'))\n",
        "model_plsa.scores.add(artm.SparsityThetaScore(name='SparsityThetaScore'))\n",
        "model_plsa.scores.add(artm.TopicKernelScore(name='TopicKernelScore', probability_mass_threshold=0.3))\n",
        "\n",
        "model_artm.scores.add(artm.SparsityPhiScore(name='SparsityPhiScore'))\n",
        "model_artm.scores.add(artm.SparsityThetaScore(name='SparsityThetaScore'))\n",
        "model_artm.scores.add(artm.TopicKernelScore(name='TopicKernelScore', probability_mass_threshold=0.3))"
      ],
      "execution_count": null,
      "outputs": []
    },
    {
      "cell_type": "markdown",
      "metadata": {
        "id": "9e3fDcI3mpQR"
      },
      "source": [
        "Аналогично поступим с регуляризаторами для model_artm (зададим им стартовые коэффициенты регуляризации, которые можно будет позже изменить при необходимости):"
      ]
    },
    {
      "cell_type": "code",
      "metadata": {
        "id": "cgoxwRB4mpQS"
      },
      "source": [
        "model_artm.regularizers.add(artm.SmoothSparsePhiRegularizer(name='SparsePhi', tau=-0.1))\n",
        "model_artm.regularizers.add(artm.DecorrelatorPhiRegularizer(name='DecorrelatorPhi', tau=1.5e+5))"
      ],
      "execution_count": null,
      "outputs": []
    },
    {
      "cell_type": "markdown",
      "metadata": {
        "id": "mcnMC0TAmpQU"
      },
      "source": [
        "Теперь попробуем обучить модели в оффлайн-режиме (т. е. обновляя Фи раз за проход по коллекции). Инициируем пятнадцать проходов:"
      ]
    },
    {
      "cell_type": "code",
      "metadata": {
        "id": "JKCfxJ1BmpQU"
      },
      "source": [
        "model_plsa.num_document_passes = 1\n",
        "model_artm.num_document_passes = 1\n",
        "\n",
        "model_plsa.fit_offline(batch_vectorizer=batch_vectorizer, num_collection_passes=15)\n",
        "model_artm.fit_offline(batch_vectorizer=batch_vectorizer, num_collection_passes=15)"
      ],
      "execution_count": null,
      "outputs": []
    },
    {
      "cell_type": "markdown",
      "metadata": {
        "id": "hfF5Hm8fmpQW"
      },
      "source": [
        "Проверим результаты первой итерации обучения, сравнив финальные значения функционалов, а также графики перплексии (опишем печать в виде функции для возможности повторного использования):"
      ]
    },
    {
      "cell_type": "code",
      "metadata": {
        "id": "o6CbuLTQmpQX",
        "colab": {
          "base_uri": "https://localhost:8080/",
          "height": 364
        },
        "outputId": "d58aa12c-66b4-414e-b37d-f5cb15c89eee"
      },
      "source": [
        "def print_measures(model_plsa, model_artm):\n",
        "    print('Sparsity Phi: {0:.3f} (PLSA) vs. {1:.3f} (ARTM)'.format(\n",
        "        model_plsa.score_tracker['SparsityPhiScore'].last_value,\n",
        "        model_artm.score_tracker['SparsityPhiScore'].last_value))\n",
        "\n",
        "    print('Sparsity Theta: {0:.3f} (PLSA) vs. {1:.3f} (ARTM)'.format(\n",
        "        model_plsa.score_tracker['SparsityThetaScore'].last_value,\n",
        "        model_artm.score_tracker['SparsityThetaScore'].last_value))\n",
        "\n",
        "    print('Kernel contrast: {0:.3f} (PLSA) vs. {1:.3f} (ARTM)'.format(\n",
        "        model_plsa.score_tracker['TopicKernelScore'].last_average_contrast,\n",
        "        model_artm.score_tracker['TopicKernelScore'].last_average_contrast))\n",
        "\n",
        "    print('Kernel purity: {0:.3f} (PLSA) vs. {1:.3f} (ARTM)'.format(\n",
        "        model_plsa.score_tracker['TopicKernelScore'].last_average_purity,\n",
        "        model_artm.score_tracker['TopicKernelScore'].last_average_purity))\n",
        "\n",
        "    print('Perplexity: {0:.3f} (PLSA) vs. {1:.3f} (ARTM)'.format(\n",
        "        model_plsa.score_tracker['PerplexityScore'].last_value,\n",
        "        model_artm.score_tracker['PerplexityScore'].last_value))\n",
        "\n",
        "    plt.plot(range(model_plsa.num_phi_updates), model_plsa.score_tracker['PerplexityScore'].value, 'b--',\n",
        "             range(model_artm.num_phi_updates), model_artm.score_tracker['PerplexityScore'].value, 'r--', linewidth=2)\n",
        "    plt.xlabel('Iterations count')\n",
        "    plt.ylabel('PLSA perp. (blue), ARTM perp. (red)')\n",
        "    plt.grid(True)\n",
        "    plt.show()\n",
        "    \n",
        "print_measures(model_plsa, model_artm)"
      ],
      "execution_count": null,
      "outputs": [
        {
          "output_type": "stream",
          "text": [
            "Sparsity Phi: 0.000 (PLSA) vs. 0.469 (ARTM)\n",
            "Sparsity Theta: 0.000 (PLSA) vs. 0.001 (ARTM)\n",
            "Kernel contrast: 0.466 (PLSA) vs. 0.525 (ARTM)\n",
            "Kernel purity: 0.215 (PLSA) vs. 0.359 (ARTM)\n",
            "Perplexity: 2058.028 (PLSA) vs. 1950.715 (ARTM)\n"
          ],
          "name": "stdout"
        },
        {
          "output_type": "display_data",
          "data": {
            "image/png": "[encoded data removed]",
            "text/plain": [
              "<Figure size 432x288 with 1 Axes>"
            ]
          },
          "metadata": {
            "tags": [],
            "needs_background": "light"
          }
        }
      ]
    },
    {
      "cell_type": "markdown",
      "metadata": {
        "id": "0CUNxGzempQa"
      },
      "source": [
        "Видно, что улучшения разреженностей и ядровых характеристик есть, а ухудшение перплексии невелико. Попробуем увеличить по модулю значения коэффициентов регуляризации при регуляризаторах:"
      ]
    },
    {
      "cell_type": "code",
      "metadata": {
        "id": "p1u3vf49mpQa"
      },
      "source": [
        "model_artm.regularizers['SparsePhi'].tau = -0.2\n",
        "model_artm.regularizers['SparseTheta'].tau = -0.2\n",
        "model_artm.regularizers['DecorrelatorPhi'].tau = 2.5e+5"
      ],
      "execution_count": null,
      "outputs": []
    },
    {
      "cell_type": "markdown",
      "metadata": {
        "id": "STgZ_xZnmpQc"
      },
      "source": [
        "Кроме того, подключим к каждой из моделей функционал TopTokensScore, который позволит взглянуть на самые вероятные слова в каждой теме:"
      ]
    },
    {
      "cell_type": "code",
      "metadata": {
        "id": "obkhYWGbmpQc"
      },
      "source": [
        "model_plsa.scores.add(artm.TopTokensScore(name='TopTokensScore', num_tokens=6))\n",
        "model_artm.scores.add(artm.TopTokensScore(name='TopTokensScore', num_tokens=6))"
      ],
      "execution_count": null,
      "outputs": []
    },
    {
      "cell_type": "markdown",
      "metadata": {
        "id": "mhksy6jFmpQf"
      },
      "source": [
        "Продолжим обучение моделей, инициировав 25 проходов по коллекции, после чего снова посмотрим на значения функционалов качества:"
      ]
    },
    {
      "cell_type": "code",
      "metadata": {
        "id": "tPrGXZF6mpQf"
      },
      "source": [
        "model_plsa.fit_offline(batch_vectorizer=batch_vectorizer, num_collection_passes=25)\n",
        "model_artm.fit_offline(batch_vectorizer=batch_vectorizer, num_collection_passes=25)"
      ],
      "execution_count": null,
      "outputs": []
    },
    {
      "cell_type": "code",
      "metadata": {
        "id": "gJGLQV7MmpQh",
        "colab": {
          "base_uri": "https://localhost:8080/",
          "height": 364
        },
        "outputId": "87c8a700-9b53-433d-cc4f-2cf5dd639311"
      },
      "source": [
        "print_measures(model_plsa, model_artm)"
      ],
      "execution_count": null,
      "outputs": [
        {
          "output_type": "stream",
          "text": [
            "Sparsity Phi: 0.093 (PLSA) vs. 0.841 (ARTM)\n",
            "Sparsity Theta: 0.000 (PLSA) vs. 0.023 (ARTM)\n",
            "Kernel contrast: 0.640 (PLSA) vs. 0.740 (ARTM)\n",
            "Kernel purity: 0.674 (PLSA) vs. 0.822 (ARTM)\n",
            "Perplexity: 1619.034 (PLSA) vs. 1644.218 (ARTM)\n"
          ],
          "name": "stdout"
        },
        {
          "output_type": "display_data",
          "data": {
            "image/png": "[encoded data removed]",
            "text/plain": [
              "<Figure size 432x288 with 1 Axes>"
            ]
          },
          "metadata": {
            "tags": [],
            "needs_background": "light"
          }
        }
      ]
    },
    {
      "cell_type": "markdown",
      "metadata": {
        "id": "EL0oec14mpQj"
      },
      "source": [
        "Кроме того, для наглядности построим графики изменения разреженностей матриц по итерациям:"
      ]
    },
    {
      "cell_type": "code",
      "metadata": {
        "id": "qBNXoNsumpQk",
        "colab": {
          "base_uri": "https://localhost:8080/",
          "height": 541
        },
        "outputId": "b28ec3dc-773b-4720-f356-448f058757b6"
      },
      "source": [
        "plt.plot(range(model_plsa.num_phi_updates), model_plsa.score_tracker['SparsityPhiScore'].value, 'b--',\n",
        "                 range(model_artm.num_phi_updates), model_artm.score_tracker['SparsityPhiScore'].value, 'r--', linewidth=2)\n",
        "plt.xlabel('Iterations count')\n",
        "plt.ylabel('PLSA Phi sp. (blue), ARTM Phi sp. (red)')\n",
        "plt.grid(True)\n",
        "plt.show()\n",
        "\n",
        "plt.plot(range(model_plsa.num_phi_updates), model_plsa.score_tracker['SparsityThetaScore'].value, 'b--',\n",
        "                 range(model_artm.num_phi_updates), model_artm.score_tracker['SparsityThetaScore'].value, 'r--', linewidth=2)\n",
        "plt.xlabel('Iterations count')\n",
        "plt.ylabel('PLSA Theta sp. (blue), ARTM Theta sp. (red)')\n",
        "plt.grid(True)\n",
        "plt.show()"
      ],
      "execution_count": null,
      "outputs": [
        {
          "output_type": "display_data",
          "data": {
            "image/png": "[encoded data removed]",
            "text/plain": [
              "<Figure size 432x288 with 1 Axes>"
            ]
          },
          "metadata": {
            "tags": [],
            "needs_background": "light"
          }
        },
        {
          "output_type": "display_data",
          "data": {
            "image/png": "[encoded data removed]",
            "text/plain": [
              "<Figure size 432x288 with 1 Axes>"
            ]
          },
          "metadata": {
            "tags": [],
            "needs_background": "light"
          }
        }
      ]
    },
    {
      "cell_type": "markdown",
      "metadata": {
        "collapsed": false,
        "id": "4qVs6NmumpQn"
      },
      "source": [
        "Кажется, что достигнутых результатов достаточно. Регуляризация позволила добиться улучшения всех характеристик, ухудшив перплексию в пределах разумного. Взглянем на топ-слова слова моделей:"
      ]
    },
    {
      "cell_type": "code",
      "metadata": {
        "id": "Jb0Gx1DdmpQn",
        "colab": {
          "base_uri": "https://localhost:8080/",
          "height": 527
        },
        "outputId": "27934e3a-4c49-445c-c29d-6c053cd5dd5f"
      },
      "source": [
        "for topic_name in model_plsa.topic_names:\n",
        "    print(topic_name + ': ')\n",
        "    print(model_plsa.score_tracker['TopTokensScore'].last_tokens[topic_name])"
      ],
      "execution_count": null,
      "outputs": [
        {
          "output_type": "stream",
          "text": [
            "topic_0: \n",
            "['year', 'tax', 'jobs', 'america', 'president', 'issues']\n",
            "topic_1: \n",
            "['people', 'war', 'service', 'military', 'rights', 'vietnam']\n",
            "topic_2: \n",
            "['november', 'electoral', 'account', 'polls', 'governor', 'contact']\n",
            "topic_3: \n",
            "['republican', 'gop', 'senate', 'senator', 'south', 'conservative']\n",
            "topic_4: \n",
            "['people', 'time', 'country', 'speech', 'talking', 'read']\n",
            "topic_5: \n",
            "['dean', 'democratic', 'edwards', 'primary', 'kerry', 'clark']\n",
            "topic_6: \n",
            "['state', 'party', 'race', 'candidates', 'candidate', 'elections']\n",
            "topic_7: \n",
            "['administration', 'president', 'years', 'bill', 'white', 'cheney']\n",
            "topic_8: \n",
            "['campaign', 'national', 'media', 'local', 'late', 'union']\n",
            "topic_9: \n",
            "['house', 'million', 'money', 'republican', 'committee', 'delay']\n",
            "topic_10: \n",
            "['republicans', 'vote', 'senate', 'election', 'democrats', 'house']\n",
            "topic_11: \n",
            "['iraq', 'war', 'american', 'iraqi', 'military', 'intelligence']\n",
            "topic_12: \n",
            "['kerry', 'poll', 'percent', 'voters', 'polls', 'numbers']\n",
            "topic_13: \n",
            "['news', 'time', 'asked', 'political', 'washington', 'long']\n",
            "topic_14: \n",
            "['bush', 'general', 'bushs', 'kerry', 'oct', 'states']\n"
          ],
          "name": "stdout"
        }
      ]
    },
    {
      "cell_type": "code",
      "metadata": {
        "id": "rVezGqbompQp",
        "colab": {
          "base_uri": "https://localhost:8080/",
          "height": 527
        },
        "outputId": "217b3f44-d619-40a2-bf3b-4554cd42dc00"
      },
      "source": [
        "for topic_name in model_artm.topic_names:\n",
        "    print(topic_name + ': ')\n",
        "    print(model_artm.score_tracker['TopTokensScore'].last_tokens[topic_name])"
      ],
      "execution_count": null,
      "outputs": [
        {
          "output_type": "stream",
          "text": [
            "topic_0: \n",
            "['party', 'political', 'issue', 'tax', 'america', 'issues']\n",
            "topic_1: \n",
            "['people', 'military', 'official', 'officials', 'service', 'public']\n",
            "topic_2: \n",
            "['electoral', 'governor', 'account', 'contact', 'ticket', 'experience']\n",
            "topic_3: \n",
            "['gop', 'convention', 'senator', 'debate', 'south', 'sen']\n",
            "topic_4: \n",
            "['country', 'speech', 'bad', 'read', 'end', 'talking']\n",
            "topic_5: \n",
            "['democratic', 'dean', 'john', 'edwards', 'primary', 'clark']\n",
            "topic_6: \n",
            "['percent', 'race', 'candidates', 'candidate', 'win', 'nader']\n",
            "topic_7: \n",
            "['administration', 'years', 'white', 'year', 'bill', 'jobs']\n",
            "topic_8: \n",
            "['campaign', 'national', 'media', 'press', 'local', 'ads']\n",
            "topic_9: \n",
            "['house', 'republican', 'million', 'money', 'elections', 'district']\n",
            "topic_10: \n",
            "['november', 'poll', 'senate', 'republicans', 'vote', 'election']\n",
            "topic_11: \n",
            "['iraq', 'war', 'american', 'iraqi', 'security', 'united']\n",
            "topic_12: \n",
            "['bush', 'kerry', 'general', 'president', 'voters', 'bushs']\n",
            "topic_13: \n",
            "['time', 'news', 'long', 'asked', 'washington', 'political']\n",
            "topic_14: \n",
            "['state', 'states', 'people', 'oct', 'fact', 'ohio']\n"
          ],
          "name": "stdout"
        }
      ]
    },
    {
      "cell_type": "markdown",
      "metadata": {
        "collapsed": false,
        "id": "JPyCLez8mpQr"
      },
      "source": [
        "Видно, что темы примерно одинаково интерпретируемы, но в модели ARTM они существенно разнообразнее."
      ]
    },
    {
      "cell_type": "markdown",
      "metadata": {
        "id": "bx_tMnRXmpQs"
      },
      "source": [
        "Извлечём матрицу $\\Phi$ в виде pandas.DataFrame и напечатаем её (в случае необходимости, можно извлекать части матрицы с помощью метода ARTM.get_phi()):"
      ]
    },
    {
      "cell_type": "code",
      "metadata": {
        "id": "-aNuHl0mmpQs",
        "colab": {
          "base_uri": "https://localhost:8080/",
          "height": 255
        },
        "outputId": "d8a62f88-e8b2-4038-f377-18c5cfe42f03"
      },
      "source": [
        "print(model_artm.phi_)"
      ],
      "execution_count": null,
      "outputs": [
        {
          "output_type": "stream",
          "text": [
            "               topic_0   topic_1  topic_2  ...  topic_12  topic_13  topic_14\n",
            "sawyer        0.000000  0.000000  0.00000  ...  0.000000  0.000000  0.000000\n",
            "harts         0.000000  0.000000  0.00000  ...  0.000000  0.000000  0.000000\n",
            "amdt          0.000000  0.000000  0.00000  ...  0.000000  0.000000  0.000000\n",
            "zimbabwe      0.000000  0.000285  0.00000  ...  0.000000  0.000000  0.000000\n",
            "lindauer      0.000000  0.000000  0.00000  ...  0.000000  0.000000  0.000000\n",
            "...                ...       ...      ...  ...       ...       ...       ...\n",
            "history       0.003673  0.000757  0.00000  ...  0.000000  0.000000  0.000525\n",
            "figures       0.000046  0.000000  0.00000  ...  0.000000  0.000086  0.001609\n",
            "consistently  0.000000  0.000000  0.00000  ...  0.000202  0.000000  0.001057\n",
            "section       0.000000  0.000000  0.00997  ...  0.000000  0.000000  0.000000\n",
            "loan          0.000000  0.000000  0.00000  ...  0.000000  0.000000  0.000000\n",
            "\n",
            "[6906 rows x 15 columns]\n"
          ],
          "name": "stdout"
        }
      ]
    },
    {
      "cell_type": "markdown",
      "metadata": {
        "id": "MxoPY2_8mpQu"
      },
      "source": [
        "Дополнительно извлечём $\\Theta$ в виде pandas.DataFrame и напечатаем её:"
      ]
    },
    {
      "cell_type": "code",
      "metadata": {
        "scrolled": true,
        "id": "4trJNeaPmpQu",
        "colab": {
          "base_uri": "https://localhost:8080/",
          "height": 323
        },
        "outputId": "b028b563-f2a5-48fc-fb2e-81a438cafe64"
      },
      "source": [
        "theta_matrix = model_artm.get_theta()\n",
        "print(theta_matrix)"
      ],
      "execution_count": null,
      "outputs": [
        {
          "output_type": "stream",
          "text": [
            "              2001      2002      2003  ...      1998      1999      2000\n",
            "topic_0   0.073776  0.104943  0.042905  ...  0.097601  0.074183  0.014716\n",
            "topic_1   0.020828  0.038438  0.000000  ...  0.080923  0.031054  0.005184\n",
            "topic_2   0.017916  0.020015  0.032033  ...  0.007222  0.000000  0.000000\n",
            "topic_3   0.101466  0.012634  0.031944  ...  0.034290  0.018526  0.033572\n",
            "topic_4   0.043031  0.093771  0.061861  ...  0.030466  0.028672  0.047126\n",
            "topic_5   0.089614  0.308603  0.353586  ...  0.228804  0.368793  0.424608\n",
            "topic_6   0.094428  0.059448  0.066714  ...  0.081716  0.079300  0.107600\n",
            "topic_7   0.044239  0.027162  0.000000  ...  0.036864  0.033008  0.006729\n",
            "topic_8   0.131643  0.108485  0.126101  ...  0.114196  0.041101  0.059586\n",
            "topic_9   0.219474  0.017388  0.004687  ...  0.059266  0.005540  0.007309\n",
            "topic_10  0.037911  0.052984  0.054648  ...  0.055971  0.055681  0.047264\n",
            "topic_11  0.002883  0.005720  0.005455  ...  0.022400  0.011004  0.000000\n",
            "topic_12  0.034635  0.041271  0.160479  ...  0.042442  0.197913  0.162937\n",
            "topic_13  0.033249  0.018402  0.010357  ...  0.024499  0.007307  0.013284\n",
            "topic_14  0.054907  0.090734  0.049230  ...  0.083341  0.047918  0.070086\n",
            "\n",
            "[15 rows x 3430 columns]\n"
          ],
          "name": "stdout"
        }
      ]
    },
    {
      "cell_type": "code",
      "metadata": {
        "id": "MYKO2_mJHTAV"
      },
      "source": [
        "!mkdir kos_test\n",
        "!cp ./kos/aaaaad.batch ./kos_test/test_docs.batch"
      ],
      "execution_count": null,
      "outputs": []
    },
    {
      "cell_type": "markdown",
      "metadata": {
        "id": "1XIuEwivmpQw"
      },
      "source": [
        "Можно использовать модель для определения векторов $\\theta_d$ для новых документов с помощью метода ARTM.transform():"
      ]
    },
    {
      "cell_type": "code",
      "metadata": {
        "scrolled": true,
        "id": "YOAIZ2ytmpQw",
        "colab": {
          "base_uri": "https://localhost:8080/",
          "height": 323
        },
        "outputId": "1b2457c0-34a3-45ed-c37e-9f69c1b8f084"
      },
      "source": [
        "test_batch_vectorizer = artm.BatchVectorizer(data_format='batches', data_path='kos_test', batches=['test_docs.batch'])\n",
        "test_theta_matrix = model_artm.transform(batch_vectorizer=test_batch_vectorizer)\n",
        "print(test_theta_matrix)"
      ],
      "execution_count": null,
      "outputs": [
        {
          "output_type": "stream",
          "text": [
            "              3001      3002      3003  ...      3428      3429      3430\n",
            "topic_0   0.075921  0.036025  0.070347  ...  0.230674  0.183250  0.061460\n",
            "topic_1   0.095511  0.029142  0.034926  ...  0.050961  0.016203  0.070528\n",
            "topic_2   0.004073  0.048534  0.012111  ...  0.018511  0.000000  0.000000\n",
            "topic_3   0.057418  0.029879  0.122530  ...  0.057928  0.193814  0.129680\n",
            "topic_4   0.123294  0.046357  0.084458  ...  0.113776  0.041241  0.075501\n",
            "topic_5   0.025445  0.010652  0.024189  ...  0.019120  0.045632  0.048145\n",
            "topic_6   0.044675  0.017211  0.072166  ...  0.009487  0.090483  0.071808\n",
            "topic_7   0.061818  0.060667  0.021505  ...  0.109989  0.061353  0.053020\n",
            "topic_8   0.049570  0.048646  0.043328  ...  0.060510  0.041052  0.099531\n",
            "topic_9   0.070232  0.491968  0.013986  ...  0.063917  0.036156  0.020280\n",
            "topic_10  0.056565  0.023245  0.158611  ...  0.024147  0.031914  0.018237\n",
            "topic_11  0.158806  0.031703  0.028202  ...  0.051376  0.052091  0.119735\n",
            "topic_12  0.054115  0.027403  0.192328  ...  0.078734  0.097283  0.111705\n",
            "topic_13  0.055276  0.055656  0.025469  ...  0.091755  0.069910  0.080938\n",
            "topic_14  0.067281  0.042911  0.095845  ...  0.019116  0.039619  0.039434\n",
            "\n",
            "[15 rows x 430 columns]\n"
          ],
          "name": "stdout"
        }
      ]
    },
    {
      "cell_type": "markdown",
      "metadata": {
        "id": "NbdX-J1lmpQy"
      },
      "source": [
        "#### Выводы\n",
        "\n",
        "Задача построения тематической модели имеет бесконечно большое множество решений. Это даёт большую свободу действий, и регуляризаторы позволяют использовать её для получения результата, удовлетворяющего сразу нескольким требованиям (разреженность, интерпретируемость, удовлетворительное значение перплексии и т. п.).\n",
        "\n",
        "Приведённый выше пример является демонстрационным, можно пробовать более гибкие стратегии регуляризации для получения ещё более хорошего результата. По аналогичной схеме можно производить эксперименты с более крупными коллекциями."
      ]
    },
    {
      "cell_type": "markdown",
      "metadata": {
        "id": "K70tSf6UUbFD"
      },
      "source": [
        "### **VisARTM** - визуализатор для BigARTM\n",
        "\n",
        "https://github.com/bigartm/visartm"
      ]
    },
    {
      "cell_type": "markdown",
      "metadata": {
        "id": "swpycwnPUQH2"
      },
      "source": [
        "![alt text](https://i.ibb.co/5W50kJt/Screenshot-2020-05-06-at-21-47-32.png)\n",
        "\n",
        "---\n",
        "http://www.machinelearning.ru/wiki/images/d/d8/Fedoriaka17bsc.pdf\n"
      ]
    },
    {
      "cell_type": "code",
      "metadata": {
        "id": "TnnPaXVw8CEH"
      },
      "source": [
        "# clear work directory\n",
        "# !rm -rf /content/*"
      ],
      "execution_count": null,
      "outputs": []
    },
    {
      "cell_type": "code",
      "metadata": {
        "id": "dDzLS2VlbP1b"
      },
      "source": [
        ""
      ],
      "execution_count": null,
      "outputs": []
    }
  ]
}